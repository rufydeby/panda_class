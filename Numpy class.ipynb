{
 "cells": [
  {
   "cell_type": "code",
   "execution_count": 60,
   "id": "2e18c3a6",
   "metadata": {},
   "outputs": [
    {
     "name": "stdout",
     "output_type": "stream",
     "text": [
      "Python\n",
      "is\n",
      "with\n",
      "me\n",
      "right?\n"
     ]
    }
   ],
   "source": [
    "# Assignment\n",
    "# ====\n",
    "# 1. print out python from the record below\n",
    "record = {'k1':[{'nest_key':['this is deep',['python']]}]}\n",
    "record[\"k1\"][0][\"nest_key\"][1][0]\n",
    "\n",
    "# 2. Print out blacktech from the info below\n",
    "info = {'k1':[1,2,{'k2':['this is tricky',{'tough':[1,2,['blacktech']]}]}]}\n",
    "info['k1'][2]['k2'][1]['tough'][2][0]\n",
    "\n",
    "# 3. Write a program that prints the integers from 1 to 100. \n",
    "# But for multiples of three print \"Fizz\" instead of the number, \n",
    "# and the multiples of five print \"Buzz\". \n",
    "# For numbers which are multiples of both three and five print \"FizzBuzz\".\n",
    "\n",
    "# for i in range(1,101):\n",
    "#     if i % 3 ==0 and i % 5 == 0:\n",
    "#         print(\"FizzBuzz\")\n",
    "#     elif i % 3 == 0:\n",
    "#         print(\"Fizz\")\n",
    "#     elif i % 5 == 0:\n",
    "#         print(\"Buzz\")\n",
    "#     else:\n",
    "#         print(i)\n",
    "\n",
    "\n",
    "# 4. create a program that stores value. Users are expected to guess the number.\n",
    "# if the user guesses correctly, return \"You win\", else, return \"try again\"\n",
    "# hint: you can get info from the user using the input() method\n",
    "# eg. first_name = input(\"enter your name\")\n",
    "\n",
    "# import random\n",
    "# number = random.randint(1,11)\n",
    "# guess = input(\"Guess a number between 1 and 10\")\n",
    "# if guess == number:\n",
    "#     print(\"You win\")\n",
    "# else:\n",
    "#     print(\"Try again\")\n",
    "\n",
    "# 5. create a program that finds the largest of 3 numbers entered by the user\n",
    "\n",
    "# num1 = int(input(\"Enter first number\"))\n",
    "# num2 = int(input(\"Enter second number\"))\n",
    "# num3 = int(input(\"Enter third number\"))\n",
    "\n",
    "# if num1 > num2 and num1 > num3:\n",
    "#     print(num1,\"is the largest\")\n",
    "# elif num2 > num1 and num2 > num3:\n",
    "#     print(num2, \"is the largest\")\n",
    "# elif num3 > num1 and num3 > num2:\n",
    "#     print(num3,\"is the largest\")\n",
    "# else:\n",
    "#     print(\"No largest number\")\n",
    "\n",
    "# 6. Create a program that accepts 2 numbers and an operator eg. 5 6, + \n",
    "# then perform an operation based on what the user enters eg 5 + 6 if the user enters 2, 8, * \n",
    "# it should return 2 * 8 and show the answer\n",
    "\n",
    "# num1 = int(input(\"Enter first number\"))\n",
    "# sign = input(\"Enter an operator eg. +, -, /, *\")\n",
    "# num2 = int(input(\"Enter second number\"))\n",
    "\n",
    "# if sign == \"+\":\n",
    "#     print(num1 + num2)\n",
    "# elif sign == \"-\":\n",
    "#     print(num1 - num2)\n",
    "# elif sign == \"*\":\n",
    "#     print(num1 * num2)\n",
    "# elif sign == \"/\":\n",
    "#     print(num1 / num2)\n",
    "# else:\n",
    "#     print(\"Invalid operator\")\n",
    "\n",
    "# 7. create a program that takes a score and shows the grade based on the score\n",
    "# eg.\n",
    "# 90 - 100 (\"Grade A\")\n",
    "# 70 - 89  (\"Grade B\")\n",
    "# 50 - 69 (\"Grade C\")\n",
    "# 30 - 49 (\"Grade D\")\n",
    "# 0 - 29  (\"Grade F\")\n",
    "\n",
    "# score = float(input(\"Enter score\"))\n",
    "# if score >= 90 and score <= 100:\n",
    "#     print(\"Grade A\")\n",
    "# elif score >= 70 and score <= 89:\n",
    "#     print(\"Grade B\")\n",
    "# elif score >= 50 and score <= 69:\n",
    "#     print(\"Grade C\")\n",
    "# elif score >= 30 and score <= 49:\n",
    "#     print(\"Grade D\")\n",
    "# elif score >= 0 and score <= 29:\n",
    "#     print(\"Grade F\")\n",
    "# else:\n",
    "#     print(\"Invalid score\")\n",
    "\n",
    "# 8.  \n",
    "# record = \"this is the time to attend python training\"\n",
    "# # bring out the words that start from 't'\n",
    "\n",
    "# for i in record.split():\n",
    "#     if i.startswith(\"t\"):\n",
    "#         print(i)\n",
    "\n",
    "# 9. \n",
    "# words = \"I am here\"\n",
    "\n",
    "# words = words.split()\n",
    "# words.reverse()\n",
    "# \" \".join(words)\n",
    "\n",
    "# print out the word in reverse to read \"here am I\"\n",
    "# words = \"I am here\"\n",
    "# words = words.split()\n",
    "# words[::-1]\n",
    "# \" \".join(words)\n",
    "\n",
    "# 10. \n",
    "# info = [1,1,1,1,2,2,3,3,3,3,4,5]\n",
    "# # bring out unique values from the code above without using the set() function.\n",
    "\n",
    "# basket = []\n",
    "# for i in info:\n",
    "#     if i not in basket:\n",
    "#         basket.append(i)\n",
    "# print(basket)\n",
    "\n",
    "# bonus.           \n",
    "words = 'Python is not hard. You agree with me right?'\n",
    "\n",
    "for i in words.split():\n",
    "    if len(i) % 2 == 0:\n",
    "        print(i)\n",
    "        \n",
    "# Print every word in this sentence above that has an even number of letters"
   ]
  },
  {
   "cell_type": "code",
   "execution_count": 62,
   "id": "b1f74a0d",
   "metadata": {},
   "outputs": [],
   "source": [
    "#Numpy - is a linear algebra library for python. It can be used to generate data.\n",
    "# numpy also works with multi dimensional array\n",
    "import numpy as np"
   ]
  },
  {
   "cell_type": "code",
   "execution_count": 63,
   "id": "8e4de573",
   "metadata": {},
   "outputs": [
    {
     "data": {
      "text/plain": [
       "list"
      ]
     },
     "execution_count": 63,
     "metadata": {},
     "output_type": "execute_result"
    }
   ],
   "source": [
    "mylist = [1,2,3,4,5]\n",
    "type(mylist)"
   ]
  },
  {
   "cell_type": "code",
   "execution_count": 65,
   "id": "abd2a21a",
   "metadata": {},
   "outputs": [
    {
     "data": {
      "text/plain": [
       "array([1, 2, 3, 4, 5])"
      ]
     },
     "execution_count": 65,
     "metadata": {},
     "output_type": "execute_result"
    }
   ],
   "source": [
    "x = np.array([1,2,3,4])\n",
    "x"
   ]
  },
  {
   "cell_type": "code",
   "execution_count": 66,
   "id": "431d6d6d",
   "metadata": {},
   "outputs": [
    {
     "data": {
      "text/plain": [
       "numpy.ndarray"
      ]
     },
     "execution_count": 66,
     "metadata": {},
     "output_type": "execute_result"
    }
   ],
   "source": [
    "type(x)"
   ]
  },
  {
   "cell_type": "code",
   "execution_count": 67,
   "id": "da703f71",
   "metadata": {},
   "outputs": [
    {
     "data": {
      "text/plain": [
       "[[1, 2, 3], [4, 5, 6], [7, 8, 9]]"
      ]
     },
     "execution_count": 67,
     "metadata": {},
     "output_type": "execute_result"
    }
   ],
   "source": [
    "#numpy array are faster than python list\n",
    "\n",
    "data = [[1,2,3],[4,5,6],[7,8,9]]\n",
    "data"
   ]
  },
  {
   "cell_type": "code",
   "execution_count": 69,
   "id": "ac1721de",
   "metadata": {},
   "outputs": [
    {
     "data": {
      "text/plain": [
       "array([[1, 2, 3],\n",
       "       [4, 5, 6],\n",
       "       [7, 8, 9]])"
      ]
     },
     "execution_count": 69,
     "metadata": {},
     "output_type": "execute_result"
    }
   ],
   "source": [
    "record = np.array(data)\n",
    "record"
   ]
  },
  {
   "cell_type": "code",
   "execution_count": 75,
   "id": "bd68aaa4",
   "metadata": {},
   "outputs": [
    {
     "data": {
      "text/plain": [
       "array([2, 3, 4, 5, 6, 7, 8, 9])"
      ]
     },
     "execution_count": 75,
     "metadata": {},
     "output_type": "execute_result"
    }
   ],
   "source": [
    "# generating data with numpy\n",
    "# arange() - generates a range of positive numbers\n",
    "np.arange(2,10)"
   ]
  },
  {
   "cell_type": "code",
   "execution_count": 76,
   "id": "43c1ff7a",
   "metadata": {},
   "outputs": [
    {
     "data": {
      "text/plain": [
       "array([ 2,  4,  6,  8, 10])"
      ]
     },
     "execution_count": 76,
     "metadata": {},
     "output_type": "execute_result"
    }
   ],
   "source": [
    "np.arange(2,11,2)"
   ]
  },
  {
   "cell_type": "code",
   "execution_count": 78,
   "id": "eaec924d",
   "metadata": {},
   "outputs": [
    {
     "data": {
      "text/plain": [
       "array([ 0.        ,  1.66666667,  3.33333333,  5.        ,  6.66666667,\n",
       "        8.33333333, 10.        ])"
      ]
     },
     "execution_count": 78,
     "metadata": {},
     "output_type": "execute_result"
    }
   ],
   "source": [
    "# generating evenly spaced numbers\n",
    "\n",
    "np.linspace(0,10,7)"
   ]
  },
  {
   "cell_type": "code",
   "execution_count": 88,
   "id": "16bd3224",
   "metadata": {},
   "outputs": [
    {
     "data": {
      "text/plain": [
       "array([[0.36110501, 0.23762555, 0.85090248, 0.35476605],\n",
       "       [0.10582938, 0.86651927, 0.63226511, 0.60721392],\n",
       "       [0.42001946, 0.40430773, 0.38876514, 0.09769373],\n",
       "       [0.86265194, 0.19626757, 0.95600649, 0.94099187],\n",
       "       [0.05786663, 0.17527828, 0.97059697, 0.0937249 ]])"
      ]
     },
     "execution_count": 88,
     "metadata": {},
     "output_type": "execute_result"
    }
   ],
   "source": [
    "# generating random numbers\n",
    "# rand generates floating random numbers greater than 0 and less than 1\n",
    "np.random.rand(5,4)"
   ]
  },
  {
   "cell_type": "code",
   "execution_count": 93,
   "id": "4c48d2f2",
   "metadata": {},
   "outputs": [
    {
     "data": {
      "text/plain": [
       "array([[-0.45209058,  0.88356583, -0.39213807],\n",
       "       [-0.93800247,  0.11401886, -1.02408979],\n",
       "       [ 0.31046624, -0.21999233,  0.6205497 ],\n",
       "       [ 0.10101941, -1.0118971 , -0.50606542],\n",
       "       [ 0.56575693,  1.65122859,  0.84205334],\n",
       "       [ 1.4807253 ,  1.62158555, -1.49869314],\n",
       "       [ 1.78773433,  1.88022217,  0.21610104],\n",
       "       [-2.12504629, -0.39015567, -0.30955616],\n",
       "       [-0.02198143, -0.26730639, -0.71574937],\n",
       "       [ 1.74975125,  0.72295741,  0.2272694 ]])"
      ]
     },
     "execution_count": 93,
     "metadata": {},
     "output_type": "execute_result"
    }
   ],
   "source": [
    "# randn will genrate random numbers that can be less than 0 and greater than 1\n",
    "np.random.randn(10,3)"
   ]
  },
  {
   "cell_type": "code",
   "execution_count": 99,
   "id": "0d6fb5c7",
   "metadata": {},
   "outputs": [
    {
     "data": {
      "text/plain": [
       "array([[3, 3, 3, 1],\n",
       "       [3, 1, 1, 3],\n",
       "       [1, 2, 1, 3],\n",
       "       [1, 2, 2, 2],\n",
       "       [1, 2, 1, 2],\n",
       "       [1, 3, 2, 2]])"
      ]
     },
     "execution_count": 99,
     "metadata": {},
     "output_type": "execute_result"
    }
   ],
   "source": [
    "np.random.randint(1,4,24).reshape(6,4)"
   ]
  },
  {
   "cell_type": "code",
   "execution_count": 101,
   "id": "44169635",
   "metadata": {},
   "outputs": [
    {
     "data": {
      "text/plain": [
       "array([[ 1,  2,  3,  4,  5],\n",
       "       [ 6,  7,  8,  9, 10],\n",
       "       [11, 12, 13, 14, 15],\n",
       "       [16, 17, 18, 19, 20],\n",
       "       [21, 22, 23, 24, 25]])"
      ]
     },
     "execution_count": 101,
     "metadata": {},
     "output_type": "execute_result"
    }
   ],
   "source": [
    "# indexing numpy array\n",
    "\n",
    "x = np.arange(1,26).reshape(5,5)\n",
    "x"
   ]
  },
  {
   "cell_type": "code",
   "execution_count": 116,
   "id": "b4f3ad20",
   "metadata": {},
   "outputs": [
    {
     "data": {
      "text/plain": [
       "array([[12, 13],\n",
       "       [17, 18]])"
      ]
     },
     "execution_count": 116,
     "metadata": {},
     "output_type": "execute_result"
    }
   ],
   "source": [
    "x[2:4,1:3]"
   ]
  },
  {
   "cell_type": "code",
   "execution_count": 106,
   "id": "2557aaee",
   "metadata": {},
   "outputs": [
    {
     "data": {
      "text/plain": [
       "8"
      ]
     },
     "execution_count": 106,
     "metadata": {},
     "output_type": "execute_result"
    }
   ],
   "source": [
    "x[1][2]"
   ]
  },
  {
   "cell_type": "code",
   "execution_count": 107,
   "id": "4b732a44",
   "metadata": {},
   "outputs": [
    {
     "data": {
      "text/plain": [
       "16"
      ]
     },
     "execution_count": 107,
     "metadata": {},
     "output_type": "execute_result"
    }
   ],
   "source": [
    "x[3][0]"
   ]
  },
  {
   "cell_type": "code",
   "execution_count": 108,
   "id": "d1724529",
   "metadata": {},
   "outputs": [
    {
     "data": {
      "text/plain": [
       "array([21, 22, 23])"
      ]
     },
     "execution_count": 108,
     "metadata": {},
     "output_type": "execute_result"
    }
   ],
   "source": [
    "# slicing\n",
    "x[4][:3]"
   ]
  },
  {
   "cell_type": "code",
   "execution_count": 113,
   "id": "1aecff1c",
   "metadata": {},
   "outputs": [
    {
     "data": {
      "text/plain": [
       "array([24, 25])"
      ]
     },
     "execution_count": 113,
     "metadata": {},
     "output_type": "execute_result"
    }
   ],
   "source": [
    "# slicing numpy array\n",
    "x[4][3:]"
   ]
  },
  {
   "cell_type": "code",
   "execution_count": 117,
   "id": "ec6d43aa",
   "metadata": {},
   "outputs": [
    {
     "data": {
      "text/plain": [
       "array([[ 6,  7],\n",
       "       [11, 12]])"
      ]
     },
     "execution_count": 117,
     "metadata": {},
     "output_type": "execute_result"
    }
   ],
   "source": [
    "x[1:3,0:2]"
   ]
  },
  {
   "cell_type": "code",
   "execution_count": 119,
   "id": "95a1c988",
   "metadata": {},
   "outputs": [
    {
     "data": {
      "text/plain": [
       "[1, 2, 3, 4, 5, 1, 2, 3, 4, 5]"
      ]
     },
     "execution_count": 119,
     "metadata": {},
     "output_type": "execute_result"
    }
   ],
   "source": [
    "# arithetic with pythion list\n",
    "mylist + mylist"
   ]
  },
  {
   "cell_type": "code",
   "execution_count": 120,
   "id": "39ea7481",
   "metadata": {},
   "outputs": [
    {
     "data": {
      "text/plain": [
       "array([ 2,  4,  6,  8, 10])"
      ]
     },
     "execution_count": 120,
     "metadata": {},
     "output_type": "execute_result"
    }
   ],
   "source": [
    "np.array(mylist) + np.array(mylist)"
   ]
  },
  {
   "cell_type": "code",
   "execution_count": 121,
   "id": "3681b7db",
   "metadata": {},
   "outputs": [
    {
     "data": {
      "text/plain": [
       "array([1, 2, 3, 4, 5])"
      ]
     },
     "execution_count": 121,
     "metadata": {},
     "output_type": "execute_result"
    }
   ],
   "source": [
    "np.array(mylist)"
   ]
  },
  {
   "cell_type": "code",
   "execution_count": 122,
   "id": "b9f9b95b",
   "metadata": {},
   "outputs": [
    {
     "data": {
      "text/plain": [
       "array([1, 2, 3, 4, 5])"
      ]
     },
     "execution_count": 122,
     "metadata": {},
     "output_type": "execute_result"
    }
   ],
   "source": [
    "np.array(mylist)"
   ]
  },
  {
   "cell_type": "code",
   "execution_count": 124,
   "id": "9f24505c",
   "metadata": {},
   "outputs": [
    {
     "data": {
      "text/plain": [
       "array([[ 2,  4,  6],\n",
       "       [ 5,  7,  9],\n",
       "       [ 8, 10, 12]])"
      ]
     },
     "execution_count": 124,
     "metadata": {},
     "output_type": "execute_result"
    }
   ],
   "source": [
    "#broadcasting\n",
    "np.arange(1,10).reshape(3,3) + np.arange(1,4)"
   ]
  },
  {
   "cell_type": "code",
   "execution_count": 126,
   "id": "02eebc4d",
   "metadata": {},
   "outputs": [
    {
     "data": {
      "text/plain": [
       "array([[1, 2, 3],\n",
       "       [4, 5, 6],\n",
       "       [7, 8, 9]])"
      ]
     },
     "execution_count": 126,
     "metadata": {},
     "output_type": "execute_result"
    }
   ],
   "source": [
    "np.arange(1,10).reshape(3,3)"
   ]
  },
  {
   "cell_type": "code",
   "execution_count": 125,
   "id": "d56dec45",
   "metadata": {},
   "outputs": [
    {
     "data": {
      "text/plain": [
       "array([1, 2, 3])"
      ]
     },
     "execution_count": 125,
     "metadata": {},
     "output_type": "execute_result"
    }
   ],
   "source": [
    "np.arange(1,4)"
   ]
  },
  {
   "cell_type": "code",
   "execution_count": null,
   "id": "822d4196",
   "metadata": {},
   "outputs": [],
   "source": [
    "[1, 2, 3]\n",
    "[1, 2, 3]\n",
    "[1, 2, 3]"
   ]
  },
  {
   "cell_type": "code",
   "execution_count": 131,
   "id": "9d4c8ff1",
   "metadata": {},
   "outputs": [
    {
     "ename": "ValueError",
     "evalue": "operands could not be broadcast together with shapes (3,3) (2,) ",
     "output_type": "error",
     "traceback": [
      "\u001b[1;31m---------------------------------------------------------------------------\u001b[0m",
      "\u001b[1;31mValueError\u001b[0m                                Traceback (most recent call last)",
      "\u001b[1;32m~\\AppData\\Local\\Temp/ipykernel_13260/3139160051.py\u001b[0m in \u001b[0;36m<module>\u001b[1;34m\u001b[0m\n\u001b[1;32m----> 1\u001b[1;33m \u001b[0mnp\u001b[0m\u001b[1;33m.\u001b[0m\u001b[0marange\u001b[0m\u001b[1;33m(\u001b[0m\u001b[1;36m1\u001b[0m\u001b[1;33m,\u001b[0m\u001b[1;36m10\u001b[0m\u001b[1;33m)\u001b[0m\u001b[1;33m.\u001b[0m\u001b[0mreshape\u001b[0m\u001b[1;33m(\u001b[0m\u001b[1;36m3\u001b[0m\u001b[1;33m,\u001b[0m\u001b[1;36m3\u001b[0m\u001b[1;33m)\u001b[0m \u001b[1;33m+\u001b[0m \u001b[0mnp\u001b[0m\u001b[1;33m.\u001b[0m\u001b[0marange\u001b[0m\u001b[1;33m(\u001b[0m\u001b[1;36m1\u001b[0m\u001b[1;33m,\u001b[0m\u001b[1;36m3\u001b[0m\u001b[1;33m)\u001b[0m\u001b[1;33m\u001b[0m\u001b[1;33m\u001b[0m\u001b[0m\n\u001b[0m",
      "\u001b[1;31mValueError\u001b[0m: operands could not be broadcast together with shapes (3,3) (2,) "
     ]
    }
   ],
   "source": [
    "#it must be same dimention either row wise or column wise\n",
    "np.arange(1,10).reshape(3,3) + np.arange(1,3)"
   ]
  },
  {
   "cell_type": "code",
   "execution_count": 130,
   "id": "7b549974",
   "metadata": {},
   "outputs": [
    {
     "data": {
      "text/plain": [
       "array([1, 2])"
      ]
     },
     "execution_count": 130,
     "metadata": {},
     "output_type": "execute_result"
    }
   ],
   "source": [
    "np.arange(1,3)"
   ]
  },
  {
   "cell_type": "code",
   "execution_count": 132,
   "id": "ed725c39",
   "metadata": {},
   "outputs": [
    {
     "data": {
      "text/plain": [
       "array([[ 8,  9, 10],\n",
       "       [11, 12, 13],\n",
       "       [14, 15, 16]])"
      ]
     },
     "execution_count": 132,
     "metadata": {},
     "output_type": "execute_result"
    }
   ],
   "source": [
    "np.arange(1,10).reshape(3,3) + 7"
   ]
  },
  {
   "cell_type": "code",
   "execution_count": 136,
   "id": "e02d06db",
   "metadata": {},
   "outputs": [
    {
     "data": {
      "text/plain": [
       "array([[ 1,  2,  3,  4,  5,  6],\n",
       "       [ 7,  8,  9, 10, 11, 12],\n",
       "       [13, 14, 15, 16, 17, 18]])"
      ]
     },
     "execution_count": 136,
     "metadata": {},
     "output_type": "execute_result"
    }
   ],
   "source": [
    "np.arange(1,19).reshape(3,6)"
   ]
  },
  {
   "cell_type": "code",
   "execution_count": 134,
   "id": "6d93f874",
   "metadata": {},
   "outputs": [
    {
     "data": {
      "text/plain": [
       "array([[1, 2],\n",
       "       [3, 4],\n",
       "       [5, 6]])"
      ]
     },
     "execution_count": 134,
     "metadata": {},
     "output_type": "execute_result"
    }
   ],
   "source": [
    "np.arange(1,7).reshape(3,2)"
   ]
  },
  {
   "cell_type": "code",
   "execution_count": 137,
   "id": "f141d7ad",
   "metadata": {},
   "outputs": [
    {
     "ename": "ValueError",
     "evalue": "operands could not be broadcast together with shapes (3,6) (3,2) ",
     "output_type": "error",
     "traceback": [
      "\u001b[1;31m---------------------------------------------------------------------------\u001b[0m",
      "\u001b[1;31mValueError\u001b[0m                                Traceback (most recent call last)",
      "\u001b[1;32m~\\AppData\\Local\\Temp/ipykernel_13260/750820262.py\u001b[0m in \u001b[0;36m<module>\u001b[1;34m\u001b[0m\n\u001b[1;32m----> 1\u001b[1;33m \u001b[0mnp\u001b[0m\u001b[1;33m.\u001b[0m\u001b[0marange\u001b[0m\u001b[1;33m(\u001b[0m\u001b[1;36m1\u001b[0m\u001b[1;33m,\u001b[0m\u001b[1;36m19\u001b[0m\u001b[1;33m)\u001b[0m\u001b[1;33m.\u001b[0m\u001b[0mreshape\u001b[0m\u001b[1;33m(\u001b[0m\u001b[1;36m3\u001b[0m\u001b[1;33m,\u001b[0m\u001b[1;36m6\u001b[0m\u001b[1;33m)\u001b[0m \u001b[1;33m+\u001b[0m \u001b[0mnp\u001b[0m\u001b[1;33m.\u001b[0m\u001b[0marange\u001b[0m\u001b[1;33m(\u001b[0m\u001b[1;36m1\u001b[0m\u001b[1;33m,\u001b[0m\u001b[1;36m7\u001b[0m\u001b[1;33m)\u001b[0m\u001b[1;33m.\u001b[0m\u001b[0mreshape\u001b[0m\u001b[1;33m(\u001b[0m\u001b[1;36m3\u001b[0m\u001b[1;33m,\u001b[0m\u001b[1;36m2\u001b[0m\u001b[1;33m)\u001b[0m\u001b[1;33m\u001b[0m\u001b[1;33m\u001b[0m\u001b[0m\n\u001b[0m",
      "\u001b[1;31mValueError\u001b[0m: operands could not be broadcast together with shapes (3,6) (3,2) "
     ]
    }
   ],
   "source": [
    "np.arange(1,19).reshape(3,6) + np.arange(1,7).reshape(3,2)"
   ]
  },
  {
   "cell_type": "code",
   "execution_count": 139,
   "id": "a6632d76",
   "metadata": {},
   "outputs": [
    {
     "data": {
      "text/plain": [
       "array([[ 1,  2,  3,  4,  5],\n",
       "       [ 6,  7,  8,  9, 10],\n",
       "       [11, 12, 13, 14, 15],\n",
       "       [16, 17, 18, 19, 20],\n",
       "       [21, 22, 23, 24, 25]])"
      ]
     },
     "execution_count": 139,
     "metadata": {},
     "output_type": "execute_result"
    }
   ],
   "source": [
    "x"
   ]
  },
  {
   "cell_type": "code",
   "execution_count": 140,
   "id": "37456556",
   "metadata": {},
   "outputs": [
    {
     "data": {
      "text/plain": [
       "325"
      ]
     },
     "execution_count": 140,
     "metadata": {},
     "output_type": "execute_result"
    }
   ],
   "source": [
    "x.sum()"
   ]
  },
  {
   "cell_type": "code",
   "execution_count": 141,
   "id": "3448b189",
   "metadata": {},
   "outputs": [
    {
     "data": {
      "text/plain": [
       "array([55, 60, 65, 70, 75])"
      ]
     },
     "execution_count": 141,
     "metadata": {},
     "output_type": "execute_result"
    }
   ],
   "source": [
    "# sum items by column\n",
    "x.sum(axis=0)"
   ]
  },
  {
   "cell_type": "code",
   "execution_count": 142,
   "id": "ed963a83",
   "metadata": {},
   "outputs": [
    {
     "data": {
      "text/plain": [
       "array([ 15,  40,  65,  90, 115])"
      ]
     },
     "execution_count": 142,
     "metadata": {},
     "output_type": "execute_result"
    }
   ],
   "source": [
    "#sum items by rows\n",
    "x.sum(axis=1)"
   ]
  },
  {
   "cell_type": "code",
   "execution_count": 144,
   "id": "f3d318a8",
   "metadata": {},
   "outputs": [
    {
     "data": {
      "text/plain": [
       "array([[1., 1., 1., 1.],\n",
       "       [1., 1., 1., 1.],\n",
       "       [1., 1., 1., 1.],\n",
       "       [1., 1., 1., 1.],\n",
       "       [1., 1., 1., 1.]])"
      ]
     },
     "execution_count": 144,
     "metadata": {},
     "output_type": "execute_result"
    }
   ],
   "source": [
    "np.ones((5,4))"
   ]
  },
  {
   "cell_type": "code",
   "execution_count": 145,
   "id": "fa5a21ad",
   "metadata": {},
   "outputs": [
    {
     "data": {
      "text/plain": [
       "array([[0., 0., 0.],\n",
       "       [0., 0., 0.],\n",
       "       [0., 0., 0.]])"
      ]
     },
     "execution_count": 145,
     "metadata": {},
     "output_type": "execute_result"
    }
   ],
   "source": [
    "np.zeros((3,3))"
   ]
  },
  {
   "cell_type": "code",
   "execution_count": 157,
   "id": "0fce7a79",
   "metadata": {},
   "outputs": [
    {
     "data": {
      "text/plain": [
       "array([4, 7, 7, 1, 9])"
      ]
     },
     "execution_count": 157,
     "metadata": {},
     "output_type": "execute_result"
    }
   ],
   "source": [
    "#use .seed() to freeze the random state of your values\n",
    "np.random.seed(5)\n",
    "y = np.random.randint(1,10,5)\n",
    "y"
   ]
  },
  {
   "cell_type": "code",
   "execution_count": 159,
   "id": "7725fd58",
   "metadata": {},
   "outputs": [
    {
     "data": {
      "text/plain": [
       "array([[False, False, False, False, False],\n",
       "       [False, False, False, False, False],\n",
       "       [ True,  True,  True,  True,  True],\n",
       "       [ True,  True,  True,  True,  True],\n",
       "       [ True,  True,  True,  True,  True]])"
      ]
     },
     "execution_count": 159,
     "metadata": {},
     "output_type": "execute_result"
    }
   ],
   "source": [
    "# comparison operator in numpy\n",
    "x > 10"
   ]
  },
  {
   "cell_type": "code",
   "execution_count": 160,
   "id": "d9ceb9fc",
   "metadata": {},
   "outputs": [],
   "source": [
    "# Pandas - python library for data analysis\n",
    "\n",
    "# series and dataframe\n",
    "# series - single column\n",
    "# dataframe - multiple columns"
   ]
  },
  {
   "cell_type": "code",
   "execution_count": 161,
   "id": "ae7dbdda",
   "metadata": {},
   "outputs": [
    {
     "data": {
      "text/plain": [
       "array([ 1,  2,  3,  4,  5,  6,  7,  8,  9, 10])"
      ]
     },
     "execution_count": 161,
     "metadata": {},
     "output_type": "execute_result"
    }
   ],
   "source": [
    "sample = np.arange(1,11)\n",
    "sample"
   ]
  },
  {
   "cell_type": "code",
   "execution_count": 162,
   "id": "2540d428",
   "metadata": {},
   "outputs": [],
   "source": [
    "import pandas as pd"
   ]
  },
  {
   "cell_type": "code",
   "execution_count": 164,
   "id": "cce4ac58",
   "metadata": {},
   "outputs": [
    {
     "data": {
      "text/plain": [
       "0     1\n",
       "1     2\n",
       "2     3\n",
       "3     4\n",
       "4     5\n",
       "5     6\n",
       "6     7\n",
       "7     8\n",
       "8     9\n",
       "9    10\n",
       "dtype: int32"
      ]
     },
     "execution_count": 164,
     "metadata": {},
     "output_type": "execute_result"
    }
   ],
   "source": [
    "sample = pd.Series(sample)\n",
    "sample"
   ]
  },
  {
   "cell_type": "code",
   "execution_count": 165,
   "id": "125aeeb4",
   "metadata": {},
   "outputs": [
    {
     "data": {
      "text/plain": [
       "9"
      ]
     },
     "execution_count": 165,
     "metadata": {},
     "output_type": "execute_result"
    }
   ],
   "source": [
    "sample[8]"
   ]
  },
  {
   "cell_type": "code",
   "execution_count": 168,
   "id": "35784e36",
   "metadata": {},
   "outputs": [
    {
     "data": {
      "text/plain": [
       "array([[485, 310, 203],\n",
       "       [244, 105, 414],\n",
       "       [356, 488, 210],\n",
       "       [264, 461, 279]])"
      ]
     },
     "execution_count": 168,
     "metadata": {},
     "output_type": "execute_result"
    }
   ],
   "source": [
    "df = np.random.randint(100,500,12).reshape(4,3)\n",
    "df"
   ]
  },
  {
   "cell_type": "code",
   "execution_count": 174,
   "id": "33aa5b5e",
   "metadata": {},
   "outputs": [
    {
     "data": {
      "text/html": [
       "<div>\n",
       "<style scoped>\n",
       "    .dataframe tbody tr th:only-of-type {\n",
       "        vertical-align: middle;\n",
       "    }\n",
       "\n",
       "    .dataframe tbody tr th {\n",
       "        vertical-align: top;\n",
       "    }\n",
       "\n",
       "    .dataframe thead th {\n",
       "        text-align: right;\n",
       "    }\n",
       "</style>\n",
       "<table border=\"1\" class=\"dataframe\">\n",
       "  <thead>\n",
       "    <tr style=\"text-align: right;\">\n",
       "      <th></th>\n",
       "      <th>Jan</th>\n",
       "      <th>Feb</th>\n",
       "      <th>Mar</th>\n",
       "    </tr>\n",
       "  </thead>\n",
       "  <tbody>\n",
       "    <tr>\n",
       "      <th>MTN</th>\n",
       "      <td>485</td>\n",
       "      <td>310</td>\n",
       "      <td>203</td>\n",
       "    </tr>\n",
       "    <tr>\n",
       "      <th>UBA</th>\n",
       "      <td>244</td>\n",
       "      <td>105</td>\n",
       "      <td>414</td>\n",
       "    </tr>\n",
       "    <tr>\n",
       "      <th>CNN</th>\n",
       "      <td>356</td>\n",
       "      <td>488</td>\n",
       "      <td>210</td>\n",
       "    </tr>\n",
       "    <tr>\n",
       "      <th>Jumia</th>\n",
       "      <td>264</td>\n",
       "      <td>461</td>\n",
       "      <td>279</td>\n",
       "    </tr>\n",
       "  </tbody>\n",
       "</table>\n",
       "</div>"
      ],
      "text/plain": [
       "       Jan  Feb  Mar\n",
       "MTN    485  310  203\n",
       "UBA    244  105  414\n",
       "CNN    356  488  210\n",
       "Jumia  264  461  279"
      ]
     },
     "execution_count": 174,
     "metadata": {},
     "output_type": "execute_result"
    }
   ],
   "source": [
    "df = pd.DataFrame(data=df, columns=[\"Jan\",\"Feb\", \"Mar\"], index=[\"MTN\",\"UBA\", \"CNN\", \"Jumia\"])\n",
    "df"
   ]
  },
  {
   "cell_type": "code",
   "execution_count": 175,
   "id": "03834dc8",
   "metadata": {},
   "outputs": [],
   "source": [
    "df.to_csv(\"demo.csv\")"
   ]
  },
  {
   "cell_type": "code",
   "execution_count": 181,
   "id": "74cd86ea",
   "metadata": {},
   "outputs": [
    {
     "data": {
      "text/html": [
       "<div>\n",
       "<style scoped>\n",
       "    .dataframe tbody tr th:only-of-type {\n",
       "        vertical-align: middle;\n",
       "    }\n",
       "\n",
       "    .dataframe tbody tr th {\n",
       "        vertical-align: top;\n",
       "    }\n",
       "\n",
       "    .dataframe thead th {\n",
       "        text-align: right;\n",
       "    }\n",
       "</style>\n",
       "<table border=\"1\" class=\"dataframe\">\n",
       "  <thead>\n",
       "    <tr style=\"text-align: right;\">\n",
       "      <th></th>\n",
       "      <th>No.</th>\n",
       "      <th>Name</th>\n",
       "      <th>Net worth (USD)</th>\n",
       "      <th>Age</th>\n",
       "      <th>Nationality</th>\n",
       "      <th>Primary source(s) of wealth</th>\n",
       "    </tr>\n",
       "  </thead>\n",
       "  <tbody>\n",
       "    <tr>\n",
       "      <th>0</th>\n",
       "      <td>1</td>\n",
       "      <td>Bernard Arnault &amp; family</td>\n",
       "      <td>$211 billion</td>\n",
       "      <td>74</td>\n",
       "      <td>France</td>\n",
       "      <td>LVMH</td>\n",
       "    </tr>\n",
       "    <tr>\n",
       "      <th>1</th>\n",
       "      <td>2</td>\n",
       "      <td>Elon Musk</td>\n",
       "      <td>$180 billion</td>\n",
       "      <td>51</td>\n",
       "      <td>United States</td>\n",
       "      <td>Tesla, SpaceX</td>\n",
       "    </tr>\n",
       "    <tr>\n",
       "      <th>2</th>\n",
       "      <td>3</td>\n",
       "      <td>Jeff Bezos</td>\n",
       "      <td>$114 billion</td>\n",
       "      <td>59</td>\n",
       "      <td>United States</td>\n",
       "      <td>Amazon</td>\n",
       "    </tr>\n",
       "    <tr>\n",
       "      <th>3</th>\n",
       "      <td>4</td>\n",
       "      <td>Larry Ellison</td>\n",
       "      <td>$107 billion</td>\n",
       "      <td>78</td>\n",
       "      <td>United States</td>\n",
       "      <td>Oracle Corporation</td>\n",
       "    </tr>\n",
       "    <tr>\n",
       "      <th>4</th>\n",
       "      <td>5</td>\n",
       "      <td>Warren Buffett</td>\n",
       "      <td>$106 billion</td>\n",
       "      <td>92</td>\n",
       "      <td>United States</td>\n",
       "      <td>Berkshire Hathaway</td>\n",
       "    </tr>\n",
       "    <tr>\n",
       "      <th>5</th>\n",
       "      <td>6</td>\n",
       "      <td>Bill Gates</td>\n",
       "      <td>$104 billion</td>\n",
       "      <td>67</td>\n",
       "      <td>United States</td>\n",
       "      <td>Microsoft</td>\n",
       "    </tr>\n",
       "    <tr>\n",
       "      <th>6</th>\n",
       "      <td>7</td>\n",
       "      <td>Michael Bloomberg</td>\n",
       "      <td>$94.5 billion</td>\n",
       "      <td>81</td>\n",
       "      <td>United States</td>\n",
       "      <td>Bloomberg L.P.</td>\n",
       "    </tr>\n",
       "    <tr>\n",
       "      <th>7</th>\n",
       "      <td>8</td>\n",
       "      <td>Carlos Slim &amp; family</td>\n",
       "      <td>$93 billion</td>\n",
       "      <td>83</td>\n",
       "      <td>Mexico</td>\n",
       "      <td>Telmex, América Móvil, Grupo Carso</td>\n",
       "    </tr>\n",
       "    <tr>\n",
       "      <th>8</th>\n",
       "      <td>9</td>\n",
       "      <td>Mukesh Ambani</td>\n",
       "      <td>$83.4 billion</td>\n",
       "      <td>65</td>\n",
       "      <td>India</td>\n",
       "      <td>Reliance Industries</td>\n",
       "    </tr>\n",
       "    <tr>\n",
       "      <th>9</th>\n",
       "      <td>10</td>\n",
       "      <td>Steve Ballmer</td>\n",
       "      <td>$80.7 billion</td>\n",
       "      <td>67</td>\n",
       "      <td>United States</td>\n",
       "      <td>Microsoft</td>\n",
       "    </tr>\n",
       "  </tbody>\n",
       "</table>\n",
       "</div>"
      ],
      "text/plain": [
       "   No.                      Name Net worth (USD)  Age    Nationality  \\\n",
       "0    1  Bernard Arnault & family    $211 billion   74         France   \n",
       "1    2                 Elon Musk    $180 billion   51  United States   \n",
       "2    3                Jeff Bezos    $114 billion   59  United States   \n",
       "3    4             Larry Ellison    $107 billion   78  United States   \n",
       "4    5            Warren Buffett    $106 billion   92  United States   \n",
       "5    6                Bill Gates    $104 billion   67  United States   \n",
       "6    7         Michael Bloomberg   $94.5 billion   81  United States   \n",
       "7    8      Carlos Slim & family     $93 billion   83         Mexico   \n",
       "8    9             Mukesh Ambani   $83.4 billion   65          India   \n",
       "9   10             Steve Ballmer   $80.7 billion   67  United States   \n",
       "\n",
       "          Primary source(s) of wealth  \n",
       "0                                LVMH  \n",
       "1                       Tesla, SpaceX  \n",
       "2                              Amazon  \n",
       "3                  Oracle Corporation  \n",
       "4                  Berkshire Hathaway  \n",
       "5                           Microsoft  \n",
       "6                      Bloomberg L.P.  \n",
       "7  Telmex, América Móvil, Grupo Carso  \n",
       "8                 Reliance Industries  \n",
       "9                           Microsoft  "
      ]
     },
     "execution_count": 181,
     "metadata": {},
     "output_type": "execute_result"
    }
   ],
   "source": [
    "#importing data in pandas\n",
    "\n",
    "df = pd.read_html(\"https://en.wikipedia.org/wiki/The_World%27s_Billionaires\")\n",
    "df[2]"
   ]
  },
  {
   "cell_type": "code",
   "execution_count": 182,
   "id": "1fd132f1",
   "metadata": {},
   "outputs": [
    {
     "data": {
      "text/plain": [
       "(10, 6)"
      ]
     },
     "execution_count": 182,
     "metadata": {},
     "output_type": "execute_result"
    }
   ],
   "source": [
    "# Exploratory data analysis (EDA)\n",
    "# check rows and columns\n",
    "df[2].shape"
   ]
  },
  {
   "cell_type": "code",
   "execution_count": 183,
   "id": "59713bf6",
   "metadata": {},
   "outputs": [],
   "source": [
    "df = df[2]"
   ]
  },
  {
   "cell_type": "code",
   "execution_count": 185,
   "id": "ba2fc0ac",
   "metadata": {},
   "outputs": [
    {
     "name": "stdout",
     "output_type": "stream",
     "text": [
      "<class 'pandas.core.frame.DataFrame'>\n",
      "RangeIndex: 10 entries, 0 to 9\n",
      "Data columns (total 6 columns):\n",
      " #   Column                       Non-Null Count  Dtype \n",
      "---  ------                       --------------  ----- \n",
      " 0   No.                          10 non-null     int64 \n",
      " 1   Name                         10 non-null     object\n",
      " 2   Net worth (USD)              10 non-null     object\n",
      " 3   Age                          10 non-null     int64 \n",
      " 4   Nationality                  10 non-null     object\n",
      " 5   Primary source(s) of wealth  10 non-null     object\n",
      "dtypes: int64(2), object(4)\n",
      "memory usage: 608.0+ bytes\n"
     ]
    }
   ],
   "source": [
    "df.info()"
   ]
  },
  {
   "cell_type": "code",
   "execution_count": 186,
   "id": "3e272fd2",
   "metadata": {},
   "outputs": [
    {
     "data": {
      "text/html": [
       "<div>\n",
       "<style scoped>\n",
       "    .dataframe tbody tr th:only-of-type {\n",
       "        vertical-align: middle;\n",
       "    }\n",
       "\n",
       "    .dataframe tbody tr th {\n",
       "        vertical-align: top;\n",
       "    }\n",
       "\n",
       "    .dataframe thead th {\n",
       "        text-align: right;\n",
       "    }\n",
       "</style>\n",
       "<table border=\"1\" class=\"dataframe\">\n",
       "  <thead>\n",
       "    <tr style=\"text-align: right;\">\n",
       "      <th></th>\n",
       "      <th>No.</th>\n",
       "      <th>Age</th>\n",
       "    </tr>\n",
       "  </thead>\n",
       "  <tbody>\n",
       "    <tr>\n",
       "      <th>count</th>\n",
       "      <td>10.00000</td>\n",
       "      <td>10.000000</td>\n",
       "    </tr>\n",
       "    <tr>\n",
       "      <th>mean</th>\n",
       "      <td>5.50000</td>\n",
       "      <td>71.700000</td>\n",
       "    </tr>\n",
       "    <tr>\n",
       "      <th>std</th>\n",
       "      <td>3.02765</td>\n",
       "      <td>12.247902</td>\n",
       "    </tr>\n",
       "    <tr>\n",
       "      <th>min</th>\n",
       "      <td>1.00000</td>\n",
       "      <td>51.000000</td>\n",
       "    </tr>\n",
       "    <tr>\n",
       "      <th>25%</th>\n",
       "      <td>3.25000</td>\n",
       "      <td>65.500000</td>\n",
       "    </tr>\n",
       "    <tr>\n",
       "      <th>50%</th>\n",
       "      <td>5.50000</td>\n",
       "      <td>70.500000</td>\n",
       "    </tr>\n",
       "    <tr>\n",
       "      <th>75%</th>\n",
       "      <td>7.75000</td>\n",
       "      <td>80.250000</td>\n",
       "    </tr>\n",
       "    <tr>\n",
       "      <th>max</th>\n",
       "      <td>10.00000</td>\n",
       "      <td>92.000000</td>\n",
       "    </tr>\n",
       "  </tbody>\n",
       "</table>\n",
       "</div>"
      ],
      "text/plain": [
       "            No.        Age\n",
       "count  10.00000  10.000000\n",
       "mean    5.50000  71.700000\n",
       "std     3.02765  12.247902\n",
       "min     1.00000  51.000000\n",
       "25%     3.25000  65.500000\n",
       "50%     5.50000  70.500000\n",
       "75%     7.75000  80.250000\n",
       "max    10.00000  92.000000"
      ]
     },
     "execution_count": 186,
     "metadata": {},
     "output_type": "execute_result"
    }
   ],
   "source": [
    "df.describe()"
   ]
  },
  {
   "cell_type": "code",
   "execution_count": 187,
   "id": "c7c24235",
   "metadata": {},
   "outputs": [
    {
     "data": {
      "text/plain": [
       "0    Bernard Arnault & family\n",
       "1                   Elon Musk\n",
       "2                  Jeff Bezos\n",
       "3               Larry Ellison\n",
       "4              Warren Buffett\n",
       "5                  Bill Gates\n",
       "6           Michael Bloomberg\n",
       "7        Carlos Slim & family\n",
       "8               Mukesh Ambani\n",
       "9               Steve Ballmer\n",
       "Name: Name, dtype: object"
      ]
     },
     "execution_count": 187,
     "metadata": {},
     "output_type": "execute_result"
    }
   ],
   "source": [
    "#accessing single column\n",
    "df[\"Name\"]"
   ]
  },
  {
   "cell_type": "code",
   "execution_count": 191,
   "id": "43c5926a",
   "metadata": {},
   "outputs": [
    {
     "data": {
      "text/html": [
       "<div>\n",
       "<style scoped>\n",
       "    .dataframe tbody tr th:only-of-type {\n",
       "        vertical-align: middle;\n",
       "    }\n",
       "\n",
       "    .dataframe tbody tr th {\n",
       "        vertical-align: top;\n",
       "    }\n",
       "\n",
       "    .dataframe thead th {\n",
       "        text-align: right;\n",
       "    }\n",
       "</style>\n",
       "<table border=\"1\" class=\"dataframe\">\n",
       "  <thead>\n",
       "    <tr style=\"text-align: right;\">\n",
       "      <th></th>\n",
       "      <th>Name</th>\n",
       "      <th>Age</th>\n",
       "      <th>Net worth (USD)</th>\n",
       "    </tr>\n",
       "  </thead>\n",
       "  <tbody>\n",
       "    <tr>\n",
       "      <th>0</th>\n",
       "      <td>Bernard Arnault &amp; family</td>\n",
       "      <td>74</td>\n",
       "      <td>$211 billion</td>\n",
       "    </tr>\n",
       "    <tr>\n",
       "      <th>1</th>\n",
       "      <td>Elon Musk</td>\n",
       "      <td>51</td>\n",
       "      <td>$180 billion</td>\n",
       "    </tr>\n",
       "    <tr>\n",
       "      <th>2</th>\n",
       "      <td>Jeff Bezos</td>\n",
       "      <td>59</td>\n",
       "      <td>$114 billion</td>\n",
       "    </tr>\n",
       "    <tr>\n",
       "      <th>3</th>\n",
       "      <td>Larry Ellison</td>\n",
       "      <td>78</td>\n",
       "      <td>$107 billion</td>\n",
       "    </tr>\n",
       "    <tr>\n",
       "      <th>4</th>\n",
       "      <td>Warren Buffett</td>\n",
       "      <td>92</td>\n",
       "      <td>$106 billion</td>\n",
       "    </tr>\n",
       "    <tr>\n",
       "      <th>5</th>\n",
       "      <td>Bill Gates</td>\n",
       "      <td>67</td>\n",
       "      <td>$104 billion</td>\n",
       "    </tr>\n",
       "    <tr>\n",
       "      <th>6</th>\n",
       "      <td>Michael Bloomberg</td>\n",
       "      <td>81</td>\n",
       "      <td>$94.5 billion</td>\n",
       "    </tr>\n",
       "    <tr>\n",
       "      <th>7</th>\n",
       "      <td>Carlos Slim &amp; family</td>\n",
       "      <td>83</td>\n",
       "      <td>$93 billion</td>\n",
       "    </tr>\n",
       "    <tr>\n",
       "      <th>8</th>\n",
       "      <td>Mukesh Ambani</td>\n",
       "      <td>65</td>\n",
       "      <td>$83.4 billion</td>\n",
       "    </tr>\n",
       "    <tr>\n",
       "      <th>9</th>\n",
       "      <td>Steve Ballmer</td>\n",
       "      <td>67</td>\n",
       "      <td>$80.7 billion</td>\n",
       "    </tr>\n",
       "  </tbody>\n",
       "</table>\n",
       "</div>"
      ],
      "text/plain": [
       "                       Name  Age Net worth (USD)\n",
       "0  Bernard Arnault & family   74    $211 billion\n",
       "1                 Elon Musk   51    $180 billion\n",
       "2                Jeff Bezos   59    $114 billion\n",
       "3             Larry Ellison   78    $107 billion\n",
       "4            Warren Buffett   92    $106 billion\n",
       "5                Bill Gates   67    $104 billion\n",
       "6         Michael Bloomberg   81   $94.5 billion\n",
       "7      Carlos Slim & family   83     $93 billion\n",
       "8             Mukesh Ambani   65   $83.4 billion\n",
       "9             Steve Ballmer   67   $80.7 billion"
      ]
     },
     "execution_count": 191,
     "metadata": {},
     "output_type": "execute_result"
    }
   ],
   "source": [
    "#Accessing multiple columns\n",
    "df[[\"Name\",\"Age\", \"Net worth (USD)\"]]"
   ]
  },
  {
   "cell_type": "code",
   "execution_count": 194,
   "id": "0061beb8",
   "metadata": {},
   "outputs": [
    {
     "data": {
      "text/html": [
       "<div>\n",
       "<style scoped>\n",
       "    .dataframe tbody tr th:only-of-type {\n",
       "        vertical-align: middle;\n",
       "    }\n",
       "\n",
       "    .dataframe tbody tr th {\n",
       "        vertical-align: top;\n",
       "    }\n",
       "\n",
       "    .dataframe thead th {\n",
       "        text-align: right;\n",
       "    }\n",
       "</style>\n",
       "<table border=\"1\" class=\"dataframe\">\n",
       "  <thead>\n",
       "    <tr style=\"text-align: right;\">\n",
       "      <th></th>\n",
       "      <th>No.</th>\n",
       "      <th>Name</th>\n",
       "      <th>Net worth (USD)</th>\n",
       "      <th>Nationality</th>\n",
       "      <th>Primary source(s) of wealth</th>\n",
       "    </tr>\n",
       "  </thead>\n",
       "  <tbody>\n",
       "    <tr>\n",
       "      <th>0</th>\n",
       "      <td>1</td>\n",
       "      <td>Bernard Arnault &amp; family</td>\n",
       "      <td>$211 billion</td>\n",
       "      <td>France</td>\n",
       "      <td>LVMH</td>\n",
       "    </tr>\n",
       "    <tr>\n",
       "      <th>1</th>\n",
       "      <td>2</td>\n",
       "      <td>Elon Musk</td>\n",
       "      <td>$180 billion</td>\n",
       "      <td>United States</td>\n",
       "      <td>Tesla, SpaceX</td>\n",
       "    </tr>\n",
       "    <tr>\n",
       "      <th>2</th>\n",
       "      <td>3</td>\n",
       "      <td>Jeff Bezos</td>\n",
       "      <td>$114 billion</td>\n",
       "      <td>United States</td>\n",
       "      <td>Amazon</td>\n",
       "    </tr>\n",
       "    <tr>\n",
       "      <th>3</th>\n",
       "      <td>4</td>\n",
       "      <td>Larry Ellison</td>\n",
       "      <td>$107 billion</td>\n",
       "      <td>United States</td>\n",
       "      <td>Oracle Corporation</td>\n",
       "    </tr>\n",
       "    <tr>\n",
       "      <th>4</th>\n",
       "      <td>5</td>\n",
       "      <td>Warren Buffett</td>\n",
       "      <td>$106 billion</td>\n",
       "      <td>United States</td>\n",
       "      <td>Berkshire Hathaway</td>\n",
       "    </tr>\n",
       "    <tr>\n",
       "      <th>5</th>\n",
       "      <td>6</td>\n",
       "      <td>Bill Gates</td>\n",
       "      <td>$104 billion</td>\n",
       "      <td>United States</td>\n",
       "      <td>Microsoft</td>\n",
       "    </tr>\n",
       "    <tr>\n",
       "      <th>6</th>\n",
       "      <td>7</td>\n",
       "      <td>Michael Bloomberg</td>\n",
       "      <td>$94.5 billion</td>\n",
       "      <td>United States</td>\n",
       "      <td>Bloomberg L.P.</td>\n",
       "    </tr>\n",
       "    <tr>\n",
       "      <th>7</th>\n",
       "      <td>8</td>\n",
       "      <td>Carlos Slim &amp; family</td>\n",
       "      <td>$93 billion</td>\n",
       "      <td>Mexico</td>\n",
       "      <td>Telmex, América Móvil, Grupo Carso</td>\n",
       "    </tr>\n",
       "    <tr>\n",
       "      <th>8</th>\n",
       "      <td>9</td>\n",
       "      <td>Mukesh Ambani</td>\n",
       "      <td>$83.4 billion</td>\n",
       "      <td>India</td>\n",
       "      <td>Reliance Industries</td>\n",
       "    </tr>\n",
       "    <tr>\n",
       "      <th>9</th>\n",
       "      <td>10</td>\n",
       "      <td>Steve Ballmer</td>\n",
       "      <td>$80.7 billion</td>\n",
       "      <td>United States</td>\n",
       "      <td>Microsoft</td>\n",
       "    </tr>\n",
       "  </tbody>\n",
       "</table>\n",
       "</div>"
      ],
      "text/plain": [
       "   No.                      Name Net worth (USD)    Nationality  \\\n",
       "0    1  Bernard Arnault & family    $211 billion         France   \n",
       "1    2                 Elon Musk    $180 billion  United States   \n",
       "2    3                Jeff Bezos    $114 billion  United States   \n",
       "3    4             Larry Ellison    $107 billion  United States   \n",
       "4    5            Warren Buffett    $106 billion  United States   \n",
       "5    6                Bill Gates    $104 billion  United States   \n",
       "6    7         Michael Bloomberg   $94.5 billion  United States   \n",
       "7    8      Carlos Slim & family     $93 billion         Mexico   \n",
       "8    9             Mukesh Ambani   $83.4 billion          India   \n",
       "9   10             Steve Ballmer   $80.7 billion  United States   \n",
       "\n",
       "          Primary source(s) of wealth  \n",
       "0                                LVMH  \n",
       "1                       Tesla, SpaceX  \n",
       "2                              Amazon  \n",
       "3                  Oracle Corporation  \n",
       "4                  Berkshire Hathaway  \n",
       "5                           Microsoft  \n",
       "6                      Bloomberg L.P.  \n",
       "7  Telmex, América Móvil, Grupo Carso  \n",
       "8                 Reliance Industries  \n",
       "9                           Microsoft  "
      ]
     },
     "execution_count": 194,
     "metadata": {},
     "output_type": "execute_result"
    }
   ],
   "source": [
    "# removing a column\n",
    "df.drop(\"Age\", axis=1)"
   ]
  },
  {
   "cell_type": "code",
   "execution_count": 197,
   "id": "7c20e899",
   "metadata": {},
   "outputs": [
    {
     "data": {
      "text/html": [
       "<div>\n",
       "<style scoped>\n",
       "    .dataframe tbody tr th:only-of-type {\n",
       "        vertical-align: middle;\n",
       "    }\n",
       "\n",
       "    .dataframe tbody tr th {\n",
       "        vertical-align: top;\n",
       "    }\n",
       "\n",
       "    .dataframe thead th {\n",
       "        text-align: right;\n",
       "    }\n",
       "</style>\n",
       "<table border=\"1\" class=\"dataframe\">\n",
       "  <thead>\n",
       "    <tr style=\"text-align: right;\">\n",
       "      <th></th>\n",
       "      <th>No.</th>\n",
       "      <th>Name</th>\n",
       "      <th>Net worth (USD)</th>\n",
       "      <th>Primary source(s) of wealth</th>\n",
       "    </tr>\n",
       "  </thead>\n",
       "  <tbody>\n",
       "    <tr>\n",
       "      <th>0</th>\n",
       "      <td>1</td>\n",
       "      <td>Bernard Arnault &amp; family</td>\n",
       "      <td>$211 billion</td>\n",
       "      <td>LVMH</td>\n",
       "    </tr>\n",
       "    <tr>\n",
       "      <th>1</th>\n",
       "      <td>2</td>\n",
       "      <td>Elon Musk</td>\n",
       "      <td>$180 billion</td>\n",
       "      <td>Tesla, SpaceX</td>\n",
       "    </tr>\n",
       "    <tr>\n",
       "      <th>2</th>\n",
       "      <td>3</td>\n",
       "      <td>Jeff Bezos</td>\n",
       "      <td>$114 billion</td>\n",
       "      <td>Amazon</td>\n",
       "    </tr>\n",
       "    <tr>\n",
       "      <th>3</th>\n",
       "      <td>4</td>\n",
       "      <td>Larry Ellison</td>\n",
       "      <td>$107 billion</td>\n",
       "      <td>Oracle Corporation</td>\n",
       "    </tr>\n",
       "    <tr>\n",
       "      <th>4</th>\n",
       "      <td>5</td>\n",
       "      <td>Warren Buffett</td>\n",
       "      <td>$106 billion</td>\n",
       "      <td>Berkshire Hathaway</td>\n",
       "    </tr>\n",
       "    <tr>\n",
       "      <th>5</th>\n",
       "      <td>6</td>\n",
       "      <td>Bill Gates</td>\n",
       "      <td>$104 billion</td>\n",
       "      <td>Microsoft</td>\n",
       "    </tr>\n",
       "    <tr>\n",
       "      <th>6</th>\n",
       "      <td>7</td>\n",
       "      <td>Michael Bloomberg</td>\n",
       "      <td>$94.5 billion</td>\n",
       "      <td>Bloomberg L.P.</td>\n",
       "    </tr>\n",
       "    <tr>\n",
       "      <th>7</th>\n",
       "      <td>8</td>\n",
       "      <td>Carlos Slim &amp; family</td>\n",
       "      <td>$93 billion</td>\n",
       "      <td>Telmex, América Móvil, Grupo Carso</td>\n",
       "    </tr>\n",
       "    <tr>\n",
       "      <th>8</th>\n",
       "      <td>9</td>\n",
       "      <td>Mukesh Ambani</td>\n",
       "      <td>$83.4 billion</td>\n",
       "      <td>Reliance Industries</td>\n",
       "    </tr>\n",
       "    <tr>\n",
       "      <th>9</th>\n",
       "      <td>10</td>\n",
       "      <td>Steve Ballmer</td>\n",
       "      <td>$80.7 billion</td>\n",
       "      <td>Microsoft</td>\n",
       "    </tr>\n",
       "  </tbody>\n",
       "</table>\n",
       "</div>"
      ],
      "text/plain": [
       "   No.                      Name Net worth (USD)  \\\n",
       "0    1  Bernard Arnault & family    $211 billion   \n",
       "1    2                 Elon Musk    $180 billion   \n",
       "2    3                Jeff Bezos    $114 billion   \n",
       "3    4             Larry Ellison    $107 billion   \n",
       "4    5            Warren Buffett    $106 billion   \n",
       "5    6                Bill Gates    $104 billion   \n",
       "6    7         Michael Bloomberg   $94.5 billion   \n",
       "7    8      Carlos Slim & family     $93 billion   \n",
       "8    9             Mukesh Ambani   $83.4 billion   \n",
       "9   10             Steve Ballmer   $80.7 billion   \n",
       "\n",
       "          Primary source(s) of wealth  \n",
       "0                                LVMH  \n",
       "1                       Tesla, SpaceX  \n",
       "2                              Amazon  \n",
       "3                  Oracle Corporation  \n",
       "4                  Berkshire Hathaway  \n",
       "5                           Microsoft  \n",
       "6                      Bloomberg L.P.  \n",
       "7  Telmex, América Móvil, Grupo Carso  \n",
       "8                 Reliance Industries  \n",
       "9                           Microsoft  "
      ]
     },
     "execution_count": 197,
     "metadata": {},
     "output_type": "execute_result"
    }
   ],
   "source": [
    "# removing multiple column\n",
    "df.drop([\"Age\",\"Nationality\"], axis=1)"
   ]
  },
  {
   "cell_type": "code",
   "execution_count": 202,
   "id": "819a3152",
   "metadata": {},
   "outputs": [
    {
     "data": {
      "text/html": [
       "<div>\n",
       "<style scoped>\n",
       "    .dataframe tbody tr th:only-of-type {\n",
       "        vertical-align: middle;\n",
       "    }\n",
       "\n",
       "    .dataframe tbody tr th {\n",
       "        vertical-align: top;\n",
       "    }\n",
       "\n",
       "    .dataframe thead th {\n",
       "        text-align: right;\n",
       "    }\n",
       "</style>\n",
       "<table border=\"1\" class=\"dataframe\">\n",
       "  <thead>\n",
       "    <tr style=\"text-align: right;\">\n",
       "      <th></th>\n",
       "      <th>No.</th>\n",
       "      <th>Name</th>\n",
       "      <th>Net worth (USD)</th>\n",
       "      <th>Age</th>\n",
       "      <th>Nationality</th>\n",
       "      <th>Primary source(s) of wealth</th>\n",
       "      <th>Double Age</th>\n",
       "    </tr>\n",
       "  </thead>\n",
       "  <tbody>\n",
       "    <tr>\n",
       "      <th>0</th>\n",
       "      <td>1</td>\n",
       "      <td>Bernard Arnault &amp; family</td>\n",
       "      <td>$211 billion</td>\n",
       "      <td>74</td>\n",
       "      <td>France</td>\n",
       "      <td>LVMH</td>\n",
       "      <td>148</td>\n",
       "    </tr>\n",
       "    <tr>\n",
       "      <th>1</th>\n",
       "      <td>2</td>\n",
       "      <td>Elon Musk</td>\n",
       "      <td>$180 billion</td>\n",
       "      <td>51</td>\n",
       "      <td>United States</td>\n",
       "      <td>Tesla, SpaceX</td>\n",
       "      <td>102</td>\n",
       "    </tr>\n",
       "    <tr>\n",
       "      <th>2</th>\n",
       "      <td>3</td>\n",
       "      <td>Jeff Bezos</td>\n",
       "      <td>$114 billion</td>\n",
       "      <td>59</td>\n",
       "      <td>United States</td>\n",
       "      <td>Amazon</td>\n",
       "      <td>118</td>\n",
       "    </tr>\n",
       "    <tr>\n",
       "      <th>3</th>\n",
       "      <td>4</td>\n",
       "      <td>Larry Ellison</td>\n",
       "      <td>$107 billion</td>\n",
       "      <td>78</td>\n",
       "      <td>United States</td>\n",
       "      <td>Oracle Corporation</td>\n",
       "      <td>156</td>\n",
       "    </tr>\n",
       "    <tr>\n",
       "      <th>4</th>\n",
       "      <td>5</td>\n",
       "      <td>Warren Buffett</td>\n",
       "      <td>$106 billion</td>\n",
       "      <td>92</td>\n",
       "      <td>United States</td>\n",
       "      <td>Berkshire Hathaway</td>\n",
       "      <td>184</td>\n",
       "    </tr>\n",
       "    <tr>\n",
       "      <th>5</th>\n",
       "      <td>6</td>\n",
       "      <td>Bill Gates</td>\n",
       "      <td>$104 billion</td>\n",
       "      <td>67</td>\n",
       "      <td>United States</td>\n",
       "      <td>Microsoft</td>\n",
       "      <td>134</td>\n",
       "    </tr>\n",
       "    <tr>\n",
       "      <th>6</th>\n",
       "      <td>7</td>\n",
       "      <td>Michael Bloomberg</td>\n",
       "      <td>$94.5 billion</td>\n",
       "      <td>81</td>\n",
       "      <td>United States</td>\n",
       "      <td>Bloomberg L.P.</td>\n",
       "      <td>162</td>\n",
       "    </tr>\n",
       "    <tr>\n",
       "      <th>7</th>\n",
       "      <td>8</td>\n",
       "      <td>Carlos Slim &amp; family</td>\n",
       "      <td>$93 billion</td>\n",
       "      <td>83</td>\n",
       "      <td>Mexico</td>\n",
       "      <td>Telmex, América Móvil, Grupo Carso</td>\n",
       "      <td>166</td>\n",
       "    </tr>\n",
       "    <tr>\n",
       "      <th>8</th>\n",
       "      <td>9</td>\n",
       "      <td>Mukesh Ambani</td>\n",
       "      <td>$83.4 billion</td>\n",
       "      <td>65</td>\n",
       "      <td>India</td>\n",
       "      <td>Reliance Industries</td>\n",
       "      <td>130</td>\n",
       "    </tr>\n",
       "    <tr>\n",
       "      <th>9</th>\n",
       "      <td>10</td>\n",
       "      <td>Steve Ballmer</td>\n",
       "      <td>$80.7 billion</td>\n",
       "      <td>67</td>\n",
       "      <td>United States</td>\n",
       "      <td>Microsoft</td>\n",
       "      <td>134</td>\n",
       "    </tr>\n",
       "  </tbody>\n",
       "</table>\n",
       "</div>"
      ],
      "text/plain": [
       "   No.                      Name Net worth (USD)  Age    Nationality  \\\n",
       "0    1  Bernard Arnault & family    $211 billion   74         France   \n",
       "1    2                 Elon Musk    $180 billion   51  United States   \n",
       "2    3                Jeff Bezos    $114 billion   59  United States   \n",
       "3    4             Larry Ellison    $107 billion   78  United States   \n",
       "4    5            Warren Buffett    $106 billion   92  United States   \n",
       "5    6                Bill Gates    $104 billion   67  United States   \n",
       "6    7         Michael Bloomberg   $94.5 billion   81  United States   \n",
       "7    8      Carlos Slim & family     $93 billion   83         Mexico   \n",
       "8    9             Mukesh Ambani   $83.4 billion   65          India   \n",
       "9   10             Steve Ballmer   $80.7 billion   67  United States   \n",
       "\n",
       "          Primary source(s) of wealth  Double Age  \n",
       "0                                LVMH         148  \n",
       "1                       Tesla, SpaceX         102  \n",
       "2                              Amazon         118  \n",
       "3                  Oracle Corporation         156  \n",
       "4                  Berkshire Hathaway         184  \n",
       "5                           Microsoft         134  \n",
       "6                      Bloomberg L.P.         162  \n",
       "7  Telmex, América Móvil, Grupo Carso         166  \n",
       "8                 Reliance Industries         130  \n",
       "9                           Microsoft         134  "
      ]
     },
     "execution_count": 202,
     "metadata": {},
     "output_type": "execute_result"
    }
   ],
   "source": [
    "# adding new column\n",
    "df[\"Double Age\"] = df[\"Age\"] * 2\n",
    "df"
   ]
  },
  {
   "cell_type": "code",
   "execution_count": 198,
   "id": "3c2c2033",
   "metadata": {},
   "outputs": [],
   "source": [
    "emp = {\n",
    "    \"name\":\"wale\"\n",
    "}"
   ]
  },
  {
   "cell_type": "code",
   "execution_count": 199,
   "id": "8c4f91eb",
   "metadata": {},
   "outputs": [
    {
     "data": {
      "text/plain": [
       "{'name': 'wale'}"
      ]
     },
     "execution_count": 199,
     "metadata": {},
     "output_type": "execute_result"
    }
   ],
   "source": [
    "emp"
   ]
  },
  {
   "cell_type": "code",
   "execution_count": 200,
   "id": "9cc5764b",
   "metadata": {},
   "outputs": [],
   "source": [
    "emp[\"age\"] =  18"
   ]
  },
  {
   "cell_type": "code",
   "execution_count": 201,
   "id": "5d3352ac",
   "metadata": {},
   "outputs": [
    {
     "data": {
      "text/plain": [
       "{'name': 'wale', 'age': 18}"
      ]
     },
     "execution_count": 201,
     "metadata": {},
     "output_type": "execute_result"
    }
   ],
   "source": [
    "emp"
   ]
  },
  {
   "cell_type": "code",
   "execution_count": 203,
   "id": "4520c1ad",
   "metadata": {},
   "outputs": [
    {
     "data": {
      "text/html": [
       "<div>\n",
       "<style scoped>\n",
       "    .dataframe tbody tr th:only-of-type {\n",
       "        vertical-align: middle;\n",
       "    }\n",
       "\n",
       "    .dataframe tbody tr th {\n",
       "        vertical-align: top;\n",
       "    }\n",
       "\n",
       "    .dataframe thead th {\n",
       "        text-align: right;\n",
       "    }\n",
       "</style>\n",
       "<table border=\"1\" class=\"dataframe\">\n",
       "  <thead>\n",
       "    <tr style=\"text-align: right;\">\n",
       "      <th></th>\n",
       "      <th>No.</th>\n",
       "      <th>Name</th>\n",
       "      <th>Net worth (USD)</th>\n",
       "      <th>Age</th>\n",
       "      <th>Nationality</th>\n",
       "      <th>Primary source(s) of wealth</th>\n",
       "      <th>Double Age</th>\n",
       "    </tr>\n",
       "  </thead>\n",
       "  <tbody>\n",
       "    <tr>\n",
       "      <th>0</th>\n",
       "      <td>1</td>\n",
       "      <td>Bernard Arnault &amp; family</td>\n",
       "      <td>$211 billion</td>\n",
       "      <td>74</td>\n",
       "      <td>France</td>\n",
       "      <td>LVMH</td>\n",
       "      <td>148</td>\n",
       "    </tr>\n",
       "    <tr>\n",
       "      <th>1</th>\n",
       "      <td>2</td>\n",
       "      <td>Elon Musk</td>\n",
       "      <td>$180 billion</td>\n",
       "      <td>51</td>\n",
       "      <td>United States</td>\n",
       "      <td>Tesla, SpaceX</td>\n",
       "      <td>102</td>\n",
       "    </tr>\n",
       "    <tr>\n",
       "      <th>2</th>\n",
       "      <td>3</td>\n",
       "      <td>Jeff Bezos</td>\n",
       "      <td>$114 billion</td>\n",
       "      <td>59</td>\n",
       "      <td>United States</td>\n",
       "      <td>Amazon</td>\n",
       "      <td>118</td>\n",
       "    </tr>\n",
       "    <tr>\n",
       "      <th>3</th>\n",
       "      <td>4</td>\n",
       "      <td>Larry Ellison</td>\n",
       "      <td>$107 billion</td>\n",
       "      <td>78</td>\n",
       "      <td>United States</td>\n",
       "      <td>Oracle Corporation</td>\n",
       "      <td>156</td>\n",
       "    </tr>\n",
       "    <tr>\n",
       "      <th>4</th>\n",
       "      <td>5</td>\n",
       "      <td>Warren Buffett</td>\n",
       "      <td>$106 billion</td>\n",
       "      <td>92</td>\n",
       "      <td>United States</td>\n",
       "      <td>Berkshire Hathaway</td>\n",
       "      <td>184</td>\n",
       "    </tr>\n",
       "    <tr>\n",
       "      <th>5</th>\n",
       "      <td>6</td>\n",
       "      <td>Bill Gates</td>\n",
       "      <td>$104 billion</td>\n",
       "      <td>67</td>\n",
       "      <td>United States</td>\n",
       "      <td>Microsoft</td>\n",
       "      <td>134</td>\n",
       "    </tr>\n",
       "    <tr>\n",
       "      <th>6</th>\n",
       "      <td>7</td>\n",
       "      <td>Michael Bloomberg</td>\n",
       "      <td>$94.5 billion</td>\n",
       "      <td>81</td>\n",
       "      <td>United States</td>\n",
       "      <td>Bloomberg L.P.</td>\n",
       "      <td>162</td>\n",
       "    </tr>\n",
       "    <tr>\n",
       "      <th>7</th>\n",
       "      <td>8</td>\n",
       "      <td>Carlos Slim &amp; family</td>\n",
       "      <td>$93 billion</td>\n",
       "      <td>83</td>\n",
       "      <td>Mexico</td>\n",
       "      <td>Telmex, América Móvil, Grupo Carso</td>\n",
       "      <td>166</td>\n",
       "    </tr>\n",
       "    <tr>\n",
       "      <th>8</th>\n",
       "      <td>9</td>\n",
       "      <td>Mukesh Ambani</td>\n",
       "      <td>$83.4 billion</td>\n",
       "      <td>65</td>\n",
       "      <td>India</td>\n",
       "      <td>Reliance Industries</td>\n",
       "      <td>130</td>\n",
       "    </tr>\n",
       "    <tr>\n",
       "      <th>9</th>\n",
       "      <td>10</td>\n",
       "      <td>Steve Ballmer</td>\n",
       "      <td>$80.7 billion</td>\n",
       "      <td>67</td>\n",
       "      <td>United States</td>\n",
       "      <td>Microsoft</td>\n",
       "      <td>134</td>\n",
       "    </tr>\n",
       "  </tbody>\n",
       "</table>\n",
       "</div>"
      ],
      "text/plain": [
       "   No.                      Name Net worth (USD)  Age    Nationality  \\\n",
       "0    1  Bernard Arnault & family    $211 billion   74         France   \n",
       "1    2                 Elon Musk    $180 billion   51  United States   \n",
       "2    3                Jeff Bezos    $114 billion   59  United States   \n",
       "3    4             Larry Ellison    $107 billion   78  United States   \n",
       "4    5            Warren Buffett    $106 billion   92  United States   \n",
       "5    6                Bill Gates    $104 billion   67  United States   \n",
       "6    7         Michael Bloomberg   $94.5 billion   81  United States   \n",
       "7    8      Carlos Slim & family     $93 billion   83         Mexico   \n",
       "8    9             Mukesh Ambani   $83.4 billion   65          India   \n",
       "9   10             Steve Ballmer   $80.7 billion   67  United States   \n",
       "\n",
       "          Primary source(s) of wealth  Double Age  \n",
       "0                                LVMH         148  \n",
       "1                       Tesla, SpaceX         102  \n",
       "2                              Amazon         118  \n",
       "3                  Oracle Corporation         156  \n",
       "4                  Berkshire Hathaway         184  \n",
       "5                           Microsoft         134  \n",
       "6                      Bloomberg L.P.         162  \n",
       "7  Telmex, América Móvil, Grupo Carso         166  \n",
       "8                 Reliance Industries         130  \n",
       "9                           Microsoft         134  "
      ]
     },
     "execution_count": 203,
     "metadata": {},
     "output_type": "execute_result"
    }
   ],
   "source": [
    "#renaming columns\n",
    "\n"
   ]
  },
  {
   "cell_type": "code",
   "execution_count": 205,
   "id": "555f84a1",
   "metadata": {},
   "outputs": [
    {
     "data": {
      "text/plain": [
       "Index(['No.', 'Name', 'Net worth (USD)', 'Age', 'Nationality',\n",
       "       'Primary source(s) of wealth', 'Double Age'],\n",
       "      dtype='object')"
      ]
     },
     "execution_count": 205,
     "metadata": {},
     "output_type": "execute_result"
    }
   ],
   "source": [
    "df.columns"
   ]
  },
  {
   "cell_type": "code",
   "execution_count": 208,
   "id": "6ae6e37a",
   "metadata": {},
   "outputs": [
    {
     "data": {
      "text/html": [
       "<div>\n",
       "<style scoped>\n",
       "    .dataframe tbody tr th:only-of-type {\n",
       "        vertical-align: middle;\n",
       "    }\n",
       "\n",
       "    .dataframe tbody tr th {\n",
       "        vertical-align: top;\n",
       "    }\n",
       "\n",
       "    .dataframe thead th {\n",
       "        text-align: right;\n",
       "    }\n",
       "</style>\n",
       "<table border=\"1\" class=\"dataframe\">\n",
       "  <thead>\n",
       "    <tr style=\"text-align: right;\">\n",
       "      <th></th>\n",
       "      <th>S/N</th>\n",
       "      <th>Name</th>\n",
       "      <th>Net worth (USD)</th>\n",
       "      <th>Age</th>\n",
       "      <th>Nationality</th>\n",
       "      <th>Primary source(s) of wealth</th>\n",
       "      <th>Double Age</th>\n",
       "    </tr>\n",
       "  </thead>\n",
       "  <tbody>\n",
       "    <tr>\n",
       "      <th>0</th>\n",
       "      <td>1</td>\n",
       "      <td>Bernard Arnault &amp; family</td>\n",
       "      <td>$211 billion</td>\n",
       "      <td>74</td>\n",
       "      <td>France</td>\n",
       "      <td>LVMH</td>\n",
       "      <td>148</td>\n",
       "    </tr>\n",
       "    <tr>\n",
       "      <th>1</th>\n",
       "      <td>2</td>\n",
       "      <td>Elon Musk</td>\n",
       "      <td>$180 billion</td>\n",
       "      <td>51</td>\n",
       "      <td>United States</td>\n",
       "      <td>Tesla, SpaceX</td>\n",
       "      <td>102</td>\n",
       "    </tr>\n",
       "    <tr>\n",
       "      <th>2</th>\n",
       "      <td>3</td>\n",
       "      <td>Jeff Bezos</td>\n",
       "      <td>$114 billion</td>\n",
       "      <td>59</td>\n",
       "      <td>United States</td>\n",
       "      <td>Amazon</td>\n",
       "      <td>118</td>\n",
       "    </tr>\n",
       "    <tr>\n",
       "      <th>3</th>\n",
       "      <td>4</td>\n",
       "      <td>Larry Ellison</td>\n",
       "      <td>$107 billion</td>\n",
       "      <td>78</td>\n",
       "      <td>United States</td>\n",
       "      <td>Oracle Corporation</td>\n",
       "      <td>156</td>\n",
       "    </tr>\n",
       "    <tr>\n",
       "      <th>4</th>\n",
       "      <td>5</td>\n",
       "      <td>Warren Buffett</td>\n",
       "      <td>$106 billion</td>\n",
       "      <td>92</td>\n",
       "      <td>United States</td>\n",
       "      <td>Berkshire Hathaway</td>\n",
       "      <td>184</td>\n",
       "    </tr>\n",
       "    <tr>\n",
       "      <th>5</th>\n",
       "      <td>6</td>\n",
       "      <td>Bill Gates</td>\n",
       "      <td>$104 billion</td>\n",
       "      <td>67</td>\n",
       "      <td>United States</td>\n",
       "      <td>Microsoft</td>\n",
       "      <td>134</td>\n",
       "    </tr>\n",
       "    <tr>\n",
       "      <th>6</th>\n",
       "      <td>7</td>\n",
       "      <td>Michael Bloomberg</td>\n",
       "      <td>$94.5 billion</td>\n",
       "      <td>81</td>\n",
       "      <td>United States</td>\n",
       "      <td>Bloomberg L.P.</td>\n",
       "      <td>162</td>\n",
       "    </tr>\n",
       "    <tr>\n",
       "      <th>7</th>\n",
       "      <td>8</td>\n",
       "      <td>Carlos Slim &amp; family</td>\n",
       "      <td>$93 billion</td>\n",
       "      <td>83</td>\n",
       "      <td>Mexico</td>\n",
       "      <td>Telmex, América Móvil, Grupo Carso</td>\n",
       "      <td>166</td>\n",
       "    </tr>\n",
       "    <tr>\n",
       "      <th>8</th>\n",
       "      <td>9</td>\n",
       "      <td>Mukesh Ambani</td>\n",
       "      <td>$83.4 billion</td>\n",
       "      <td>65</td>\n",
       "      <td>India</td>\n",
       "      <td>Reliance Industries</td>\n",
       "      <td>130</td>\n",
       "    </tr>\n",
       "    <tr>\n",
       "      <th>9</th>\n",
       "      <td>10</td>\n",
       "      <td>Steve Ballmer</td>\n",
       "      <td>$80.7 billion</td>\n",
       "      <td>67</td>\n",
       "      <td>United States</td>\n",
       "      <td>Microsoft</td>\n",
       "      <td>134</td>\n",
       "    </tr>\n",
       "  </tbody>\n",
       "</table>\n",
       "</div>"
      ],
      "text/plain": [
       "   S/N                      Name Net worth (USD)  Age    Nationality  \\\n",
       "0    1  Bernard Arnault & family    $211 billion   74         France   \n",
       "1    2                 Elon Musk    $180 billion   51  United States   \n",
       "2    3                Jeff Bezos    $114 billion   59  United States   \n",
       "3    4             Larry Ellison    $107 billion   78  United States   \n",
       "4    5            Warren Buffett    $106 billion   92  United States   \n",
       "5    6                Bill Gates    $104 billion   67  United States   \n",
       "6    7         Michael Bloomberg   $94.5 billion   81  United States   \n",
       "7    8      Carlos Slim & family     $93 billion   83         Mexico   \n",
       "8    9             Mukesh Ambani   $83.4 billion   65          India   \n",
       "9   10             Steve Ballmer   $80.7 billion   67  United States   \n",
       "\n",
       "          Primary source(s) of wealth  Double Age  \n",
       "0                                LVMH         148  \n",
       "1                       Tesla, SpaceX         102  \n",
       "2                              Amazon         118  \n",
       "3                  Oracle Corporation         156  \n",
       "4                  Berkshire Hathaway         184  \n",
       "5                           Microsoft         134  \n",
       "6                      Bloomberg L.P.         162  \n",
       "7  Telmex, América Móvil, Grupo Carso         166  \n",
       "8                 Reliance Industries         130  \n",
       "9                           Microsoft         134  "
      ]
     },
     "execution_count": 208,
     "metadata": {},
     "output_type": "execute_result"
    }
   ],
   "source": [
    "#renaming columns\n",
    "df = df.rename(columns={\"No.\":\"S/N\"})\n",
    "df"
   ]
  },
  {
   "cell_type": "code",
   "execution_count": 216,
   "id": "5491375f",
   "metadata": {},
   "outputs": [
    {
     "data": {
      "text/html": [
       "<div>\n",
       "<style scoped>\n",
       "    .dataframe tbody tr th:only-of-type {\n",
       "        vertical-align: middle;\n",
       "    }\n",
       "\n",
       "    .dataframe tbody tr th {\n",
       "        vertical-align: top;\n",
       "    }\n",
       "\n",
       "    .dataframe thead th {\n",
       "        text-align: right;\n",
       "    }\n",
       "</style>\n",
       "<table border=\"1\" class=\"dataframe\">\n",
       "  <thead>\n",
       "    <tr style=\"text-align: right;\">\n",
       "      <th></th>\n",
       "      <th>S/N</th>\n",
       "      <th>Name</th>\n",
       "      <th>Net worth (USD)</th>\n",
       "      <th>Age</th>\n",
       "      <th>Nationality</th>\n",
       "      <th>Primary source(s) of wealth</th>\n",
       "      <th>Double Age</th>\n",
       "    </tr>\n",
       "  </thead>\n",
       "  <tbody>\n",
       "    <tr>\n",
       "      <th>1</th>\n",
       "      <td>2</td>\n",
       "      <td>Elon Musk</td>\n",
       "      <td>$180 billion</td>\n",
       "      <td>51</td>\n",
       "      <td>United States</td>\n",
       "      <td>Tesla, SpaceX</td>\n",
       "      <td>102</td>\n",
       "    </tr>\n",
       "    <tr>\n",
       "      <th>2</th>\n",
       "      <td>3</td>\n",
       "      <td>Jeff Bezos</td>\n",
       "      <td>$114 billion</td>\n",
       "      <td>59</td>\n",
       "      <td>United States</td>\n",
       "      <td>Amazon</td>\n",
       "      <td>118</td>\n",
       "    </tr>\n",
       "    <tr>\n",
       "      <th>3</th>\n",
       "      <td>4</td>\n",
       "      <td>Larry Ellison</td>\n",
       "      <td>$107 billion</td>\n",
       "      <td>78</td>\n",
       "      <td>United States</td>\n",
       "      <td>Oracle Corporation</td>\n",
       "      <td>156</td>\n",
       "    </tr>\n",
       "    <tr>\n",
       "      <th>4</th>\n",
       "      <td>5</td>\n",
       "      <td>Warren Buffett</td>\n",
       "      <td>$106 billion</td>\n",
       "      <td>92</td>\n",
       "      <td>United States</td>\n",
       "      <td>Berkshire Hathaway</td>\n",
       "      <td>184</td>\n",
       "    </tr>\n",
       "    <tr>\n",
       "      <th>5</th>\n",
       "      <td>6</td>\n",
       "      <td>Bill Gates</td>\n",
       "      <td>$104 billion</td>\n",
       "      <td>67</td>\n",
       "      <td>United States</td>\n",
       "      <td>Microsoft</td>\n",
       "      <td>134</td>\n",
       "    </tr>\n",
       "  </tbody>\n",
       "</table>\n",
       "</div>"
      ],
      "text/plain": [
       "   S/N            Name Net worth (USD)  Age    Nationality  \\\n",
       "1    2       Elon Musk    $180 billion   51  United States   \n",
       "2    3      Jeff Bezos    $114 billion   59  United States   \n",
       "3    4   Larry Ellison    $107 billion   78  United States   \n",
       "4    5  Warren Buffett    $106 billion   92  United States   \n",
       "5    6      Bill Gates    $104 billion   67  United States   \n",
       "\n",
       "  Primary source(s) of wealth  Double Age  \n",
       "1               Tesla, SpaceX         102  \n",
       "2                      Amazon         118  \n",
       "3          Oracle Corporation         156  \n",
       "4          Berkshire Hathaway         184  \n",
       "5                   Microsoft         134  "
      ]
     },
     "execution_count": 216,
     "metadata": {},
     "output_type": "execute_result"
    }
   ],
   "source": [
    "# accessing rows\n",
    "df.loc[1:5]"
   ]
  },
  {
   "cell_type": "code",
   "execution_count": 217,
   "id": "93145fcc",
   "metadata": {},
   "outputs": [
    {
     "data": {
      "text/html": [
       "<div>\n",
       "<style scoped>\n",
       "    .dataframe tbody tr th:only-of-type {\n",
       "        vertical-align: middle;\n",
       "    }\n",
       "\n",
       "    .dataframe tbody tr th {\n",
       "        vertical-align: top;\n",
       "    }\n",
       "\n",
       "    .dataframe thead th {\n",
       "        text-align: right;\n",
       "    }\n",
       "</style>\n",
       "<table border=\"1\" class=\"dataframe\">\n",
       "  <thead>\n",
       "    <tr style=\"text-align: right;\">\n",
       "      <th></th>\n",
       "      <th>S/N</th>\n",
       "      <th>Name</th>\n",
       "      <th>Net worth (USD)</th>\n",
       "      <th>Age</th>\n",
       "      <th>Nationality</th>\n",
       "      <th>Primary source(s) of wealth</th>\n",
       "      <th>Double Age</th>\n",
       "    </tr>\n",
       "  </thead>\n",
       "  <tbody>\n",
       "    <tr>\n",
       "      <th>0</th>\n",
       "      <td>1</td>\n",
       "      <td>Bernard Arnault &amp; family</td>\n",
       "      <td>$211 billion</td>\n",
       "      <td>74</td>\n",
       "      <td>France</td>\n",
       "      <td>LVMH</td>\n",
       "      <td>148</td>\n",
       "    </tr>\n",
       "    <tr>\n",
       "      <th>2</th>\n",
       "      <td>3</td>\n",
       "      <td>Jeff Bezos</td>\n",
       "      <td>$114 billion</td>\n",
       "      <td>59</td>\n",
       "      <td>United States</td>\n",
       "      <td>Amazon</td>\n",
       "      <td>118</td>\n",
       "    </tr>\n",
       "    <tr>\n",
       "      <th>3</th>\n",
       "      <td>4</td>\n",
       "      <td>Larry Ellison</td>\n",
       "      <td>$107 billion</td>\n",
       "      <td>78</td>\n",
       "      <td>United States</td>\n",
       "      <td>Oracle Corporation</td>\n",
       "      <td>156</td>\n",
       "    </tr>\n",
       "    <tr>\n",
       "      <th>4</th>\n",
       "      <td>5</td>\n",
       "      <td>Warren Buffett</td>\n",
       "      <td>$106 billion</td>\n",
       "      <td>92</td>\n",
       "      <td>United States</td>\n",
       "      <td>Berkshire Hathaway</td>\n",
       "      <td>184</td>\n",
       "    </tr>\n",
       "    <tr>\n",
       "      <th>5</th>\n",
       "      <td>6</td>\n",
       "      <td>Bill Gates</td>\n",
       "      <td>$104 billion</td>\n",
       "      <td>67</td>\n",
       "      <td>United States</td>\n",
       "      <td>Microsoft</td>\n",
       "      <td>134</td>\n",
       "    </tr>\n",
       "    <tr>\n",
       "      <th>6</th>\n",
       "      <td>7</td>\n",
       "      <td>Michael Bloomberg</td>\n",
       "      <td>$94.5 billion</td>\n",
       "      <td>81</td>\n",
       "      <td>United States</td>\n",
       "      <td>Bloomberg L.P.</td>\n",
       "      <td>162</td>\n",
       "    </tr>\n",
       "    <tr>\n",
       "      <th>7</th>\n",
       "      <td>8</td>\n",
       "      <td>Carlos Slim &amp; family</td>\n",
       "      <td>$93 billion</td>\n",
       "      <td>83</td>\n",
       "      <td>Mexico</td>\n",
       "      <td>Telmex, América Móvil, Grupo Carso</td>\n",
       "      <td>166</td>\n",
       "    </tr>\n",
       "    <tr>\n",
       "      <th>8</th>\n",
       "      <td>9</td>\n",
       "      <td>Mukesh Ambani</td>\n",
       "      <td>$83.4 billion</td>\n",
       "      <td>65</td>\n",
       "      <td>India</td>\n",
       "      <td>Reliance Industries</td>\n",
       "      <td>130</td>\n",
       "    </tr>\n",
       "    <tr>\n",
       "      <th>9</th>\n",
       "      <td>10</td>\n",
       "      <td>Steve Ballmer</td>\n",
       "      <td>$80.7 billion</td>\n",
       "      <td>67</td>\n",
       "      <td>United States</td>\n",
       "      <td>Microsoft</td>\n",
       "      <td>134</td>\n",
       "    </tr>\n",
       "  </tbody>\n",
       "</table>\n",
       "</div>"
      ],
      "text/plain": [
       "   S/N                      Name Net worth (USD)  Age    Nationality  \\\n",
       "0    1  Bernard Arnault & family    $211 billion   74         France   \n",
       "2    3                Jeff Bezos    $114 billion   59  United States   \n",
       "3    4             Larry Ellison    $107 billion   78  United States   \n",
       "4    5            Warren Buffett    $106 billion   92  United States   \n",
       "5    6                Bill Gates    $104 billion   67  United States   \n",
       "6    7         Michael Bloomberg   $94.5 billion   81  United States   \n",
       "7    8      Carlos Slim & family     $93 billion   83         Mexico   \n",
       "8    9             Mukesh Ambani   $83.4 billion   65          India   \n",
       "9   10             Steve Ballmer   $80.7 billion   67  United States   \n",
       "\n",
       "          Primary source(s) of wealth  Double Age  \n",
       "0                                LVMH         148  \n",
       "2                              Amazon         118  \n",
       "3                  Oracle Corporation         156  \n",
       "4                  Berkshire Hathaway         184  \n",
       "5                           Microsoft         134  \n",
       "6                      Bloomberg L.P.         162  \n",
       "7  Telmex, América Móvil, Grupo Carso         166  \n",
       "8                 Reliance Industries         130  \n",
       "9                           Microsoft         134  "
      ]
     },
     "execution_count": 217,
     "metadata": {},
     "output_type": "execute_result"
    }
   ],
   "source": [
    "# dropping a row\n",
    "df.drop(1,axis=0)"
   ]
  },
  {
   "cell_type": "code",
   "execution_count": 219,
   "id": "7b59110b",
   "metadata": {},
   "outputs": [
    {
     "data": {
      "text/html": [
       "<div>\n",
       "<style scoped>\n",
       "    .dataframe tbody tr th:only-of-type {\n",
       "        vertical-align: middle;\n",
       "    }\n",
       "\n",
       "    .dataframe tbody tr th {\n",
       "        vertical-align: top;\n",
       "    }\n",
       "\n",
       "    .dataframe thead th {\n",
       "        text-align: right;\n",
       "    }\n",
       "</style>\n",
       "<table border=\"1\" class=\"dataframe\">\n",
       "  <thead>\n",
       "    <tr style=\"text-align: right;\">\n",
       "      <th></th>\n",
       "      <th>S/N</th>\n",
       "      <th>Name</th>\n",
       "      <th>Net worth (USD)</th>\n",
       "      <th>Age</th>\n",
       "      <th>Nationality</th>\n",
       "      <th>Primary source(s) of wealth</th>\n",
       "      <th>Double Age</th>\n",
       "    </tr>\n",
       "  </thead>\n",
       "  <tbody>\n",
       "    <tr>\n",
       "      <th>0</th>\n",
       "      <td>1</td>\n",
       "      <td>Bernard Arnault &amp; family</td>\n",
       "      <td>$211 billion</td>\n",
       "      <td>74</td>\n",
       "      <td>France</td>\n",
       "      <td>LVMH</td>\n",
       "      <td>148</td>\n",
       "    </tr>\n",
       "    <tr>\n",
       "      <th>1</th>\n",
       "      <td>2</td>\n",
       "      <td>Elon Musk</td>\n",
       "      <td>$180 billion</td>\n",
       "      <td>51</td>\n",
       "      <td>United States</td>\n",
       "      <td>Tesla, SpaceX</td>\n",
       "      <td>102</td>\n",
       "    </tr>\n",
       "    <tr>\n",
       "      <th>2</th>\n",
       "      <td>3</td>\n",
       "      <td>Jeff Bezos</td>\n",
       "      <td>$114 billion</td>\n",
       "      <td>59</td>\n",
       "      <td>United States</td>\n",
       "      <td>Amazon</td>\n",
       "      <td>118</td>\n",
       "    </tr>\n",
       "    <tr>\n",
       "      <th>3</th>\n",
       "      <td>4</td>\n",
       "      <td>Larry Ellison</td>\n",
       "      <td>$107 billion</td>\n",
       "      <td>78</td>\n",
       "      <td>United States</td>\n",
       "      <td>Oracle Corporation</td>\n",
       "      <td>156</td>\n",
       "    </tr>\n",
       "    <tr>\n",
       "      <th>4</th>\n",
       "      <td>5</td>\n",
       "      <td>Warren Buffett</td>\n",
       "      <td>$106 billion</td>\n",
       "      <td>92</td>\n",
       "      <td>United States</td>\n",
       "      <td>Berkshire Hathaway</td>\n",
       "      <td>184</td>\n",
       "    </tr>\n",
       "    <tr>\n",
       "      <th>5</th>\n",
       "      <td>6</td>\n",
       "      <td>Bill Gates</td>\n",
       "      <td>$104 billion</td>\n",
       "      <td>67</td>\n",
       "      <td>United States</td>\n",
       "      <td>Microsoft</td>\n",
       "      <td>134</td>\n",
       "    </tr>\n",
       "    <tr>\n",
       "      <th>6</th>\n",
       "      <td>7</td>\n",
       "      <td>Michael Bloomberg</td>\n",
       "      <td>$94.5 billion</td>\n",
       "      <td>81</td>\n",
       "      <td>United States</td>\n",
       "      <td>Bloomberg L.P.</td>\n",
       "      <td>162</td>\n",
       "    </tr>\n",
       "    <tr>\n",
       "      <th>7</th>\n",
       "      <td>8</td>\n",
       "      <td>Carlos Slim &amp; family</td>\n",
       "      <td>$93 billion</td>\n",
       "      <td>83</td>\n",
       "      <td>Mexico</td>\n",
       "      <td>Telmex, América Móvil, Grupo Carso</td>\n",
       "      <td>166</td>\n",
       "    </tr>\n",
       "    <tr>\n",
       "      <th>8</th>\n",
       "      <td>9</td>\n",
       "      <td>Mukesh Ambani</td>\n",
       "      <td>$83.4 billion</td>\n",
       "      <td>65</td>\n",
       "      <td>India</td>\n",
       "      <td>Reliance Industries</td>\n",
       "      <td>130</td>\n",
       "    </tr>\n",
       "    <tr>\n",
       "      <th>9</th>\n",
       "      <td>10</td>\n",
       "      <td>Steve Ballmer</td>\n",
       "      <td>$80.7 billion</td>\n",
       "      <td>67</td>\n",
       "      <td>United States</td>\n",
       "      <td>Microsoft</td>\n",
       "      <td>134</td>\n",
       "    </tr>\n",
       "    <tr>\n",
       "      <th>10</th>\n",
       "      <td>1</td>\n",
       "      <td>Bernard Arnault &amp; family</td>\n",
       "      <td>$211 billion</td>\n",
       "      <td>74</td>\n",
       "      <td>France</td>\n",
       "      <td>LVMH</td>\n",
       "      <td>148</td>\n",
       "    </tr>\n",
       "    <tr>\n",
       "      <th>11</th>\n",
       "      <td>2</td>\n",
       "      <td>Elon Musk</td>\n",
       "      <td>$180 billion</td>\n",
       "      <td>51</td>\n",
       "      <td>United States</td>\n",
       "      <td>Tesla, SpaceX</td>\n",
       "      <td>102</td>\n",
       "    </tr>\n",
       "    <tr>\n",
       "      <th>12</th>\n",
       "      <td>3</td>\n",
       "      <td>Jeff Bezos</td>\n",
       "      <td>$114 billion</td>\n",
       "      <td>59</td>\n",
       "      <td>United States</td>\n",
       "      <td>Amazon</td>\n",
       "      <td>118</td>\n",
       "    </tr>\n",
       "    <tr>\n",
       "      <th>13</th>\n",
       "      <td>4</td>\n",
       "      <td>Larry Ellison</td>\n",
       "      <td>$107 billion</td>\n",
       "      <td>78</td>\n",
       "      <td>United States</td>\n",
       "      <td>Oracle Corporation</td>\n",
       "      <td>156</td>\n",
       "    </tr>\n",
       "    <tr>\n",
       "      <th>14</th>\n",
       "      <td>5</td>\n",
       "      <td>Warren Buffett</td>\n",
       "      <td>$106 billion</td>\n",
       "      <td>92</td>\n",
       "      <td>United States</td>\n",
       "      <td>Berkshire Hathaway</td>\n",
       "      <td>184</td>\n",
       "    </tr>\n",
       "    <tr>\n",
       "      <th>15</th>\n",
       "      <td>6</td>\n",
       "      <td>Bill Gates</td>\n",
       "      <td>$104 billion</td>\n",
       "      <td>67</td>\n",
       "      <td>United States</td>\n",
       "      <td>Microsoft</td>\n",
       "      <td>134</td>\n",
       "    </tr>\n",
       "    <tr>\n",
       "      <th>16</th>\n",
       "      <td>7</td>\n",
       "      <td>Michael Bloomberg</td>\n",
       "      <td>$94.5 billion</td>\n",
       "      <td>81</td>\n",
       "      <td>United States</td>\n",
       "      <td>Bloomberg L.P.</td>\n",
       "      <td>162</td>\n",
       "    </tr>\n",
       "    <tr>\n",
       "      <th>17</th>\n",
       "      <td>8</td>\n",
       "      <td>Carlos Slim &amp; family</td>\n",
       "      <td>$93 billion</td>\n",
       "      <td>83</td>\n",
       "      <td>Mexico</td>\n",
       "      <td>Telmex, América Móvil, Grupo Carso</td>\n",
       "      <td>166</td>\n",
       "    </tr>\n",
       "    <tr>\n",
       "      <th>18</th>\n",
       "      <td>9</td>\n",
       "      <td>Mukesh Ambani</td>\n",
       "      <td>$83.4 billion</td>\n",
       "      <td>65</td>\n",
       "      <td>India</td>\n",
       "      <td>Reliance Industries</td>\n",
       "      <td>130</td>\n",
       "    </tr>\n",
       "    <tr>\n",
       "      <th>19</th>\n",
       "      <td>10</td>\n",
       "      <td>Steve Ballmer</td>\n",
       "      <td>$80.7 billion</td>\n",
       "      <td>67</td>\n",
       "      <td>United States</td>\n",
       "      <td>Microsoft</td>\n",
       "      <td>134</td>\n",
       "    </tr>\n",
       "  </tbody>\n",
       "</table>\n",
       "</div>"
      ],
      "text/plain": [
       "    S/N                      Name Net worth (USD)  Age    Nationality  \\\n",
       "0     1  Bernard Arnault & family    $211 billion   74         France   \n",
       "1     2                 Elon Musk    $180 billion   51  United States   \n",
       "2     3                Jeff Bezos    $114 billion   59  United States   \n",
       "3     4             Larry Ellison    $107 billion   78  United States   \n",
       "4     5            Warren Buffett    $106 billion   92  United States   \n",
       "5     6                Bill Gates    $104 billion   67  United States   \n",
       "6     7         Michael Bloomberg   $94.5 billion   81  United States   \n",
       "7     8      Carlos Slim & family     $93 billion   83         Mexico   \n",
       "8     9             Mukesh Ambani   $83.4 billion   65          India   \n",
       "9    10             Steve Ballmer   $80.7 billion   67  United States   \n",
       "10    1  Bernard Arnault & family    $211 billion   74         France   \n",
       "11    2                 Elon Musk    $180 billion   51  United States   \n",
       "12    3                Jeff Bezos    $114 billion   59  United States   \n",
       "13    4             Larry Ellison    $107 billion   78  United States   \n",
       "14    5            Warren Buffett    $106 billion   92  United States   \n",
       "15    6                Bill Gates    $104 billion   67  United States   \n",
       "16    7         Michael Bloomberg   $94.5 billion   81  United States   \n",
       "17    8      Carlos Slim & family     $93 billion   83         Mexico   \n",
       "18    9             Mukesh Ambani   $83.4 billion   65          India   \n",
       "19   10             Steve Ballmer   $80.7 billion   67  United States   \n",
       "\n",
       "           Primary source(s) of wealth  Double Age  \n",
       "0                                 LVMH         148  \n",
       "1                        Tesla, SpaceX         102  \n",
       "2                               Amazon         118  \n",
       "3                   Oracle Corporation         156  \n",
       "4                   Berkshire Hathaway         184  \n",
       "5                            Microsoft         134  \n",
       "6                       Bloomberg L.P.         162  \n",
       "7   Telmex, América Móvil, Grupo Carso         166  \n",
       "8                  Reliance Industries         130  \n",
       "9                            Microsoft         134  \n",
       "10                                LVMH         148  \n",
       "11                       Tesla, SpaceX         102  \n",
       "12                              Amazon         118  \n",
       "13                  Oracle Corporation         156  \n",
       "14                  Berkshire Hathaway         184  \n",
       "15                           Microsoft         134  \n",
       "16                      Bloomberg L.P.         162  \n",
       "17  Telmex, América Móvil, Grupo Carso         166  \n",
       "18                 Reliance Industries         130  \n",
       "19                           Microsoft         134  "
      ]
     },
     "execution_count": 219,
     "metadata": {},
     "output_type": "execute_result"
    }
   ],
   "source": [
    "# insert a row/multiple rows\n",
    "df.append(df, ignore_index=True)"
   ]
  },
  {
   "cell_type": "code",
   "execution_count": 223,
   "id": "f75286a0",
   "metadata": {},
   "outputs": [
    {
     "data": {
      "text/html": [
       "<div>\n",
       "<style scoped>\n",
       "    .dataframe tbody tr th:only-of-type {\n",
       "        vertical-align: middle;\n",
       "    }\n",
       "\n",
       "    .dataframe tbody tr th {\n",
       "        vertical-align: top;\n",
       "    }\n",
       "\n",
       "    .dataframe thead th {\n",
       "        text-align: right;\n",
       "    }\n",
       "</style>\n",
       "<table border=\"1\" class=\"dataframe\">\n",
       "  <thead>\n",
       "    <tr style=\"text-align: right;\">\n",
       "      <th></th>\n",
       "      <th>S/N</th>\n",
       "      <th>Name</th>\n",
       "      <th>Net worth (USD)</th>\n",
       "      <th>Age</th>\n",
       "      <th>Nationality</th>\n",
       "      <th>Primary source(s) of wealth</th>\n",
       "      <th>Double Age</th>\n",
       "    </tr>\n",
       "  </thead>\n",
       "  <tbody>\n",
       "    <tr>\n",
       "      <th>4</th>\n",
       "      <td>5</td>\n",
       "      <td>Warren Buffett</td>\n",
       "      <td>$106 billion</td>\n",
       "      <td>92</td>\n",
       "      <td>United States</td>\n",
       "      <td>Berkshire Hathaway</td>\n",
       "      <td>184</td>\n",
       "    </tr>\n",
       "    <tr>\n",
       "      <th>9</th>\n",
       "      <td>10</td>\n",
       "      <td>Steve Ballmer</td>\n",
       "      <td>$80.7 billion</td>\n",
       "      <td>67</td>\n",
       "      <td>United States</td>\n",
       "      <td>Microsoft</td>\n",
       "      <td>134</td>\n",
       "    </tr>\n",
       "    <tr>\n",
       "      <th>8</th>\n",
       "      <td>9</td>\n",
       "      <td>Mukesh Ambani</td>\n",
       "      <td>$83.4 billion</td>\n",
       "      <td>65</td>\n",
       "      <td>India</td>\n",
       "      <td>Reliance Industries</td>\n",
       "      <td>130</td>\n",
       "    </tr>\n",
       "    <tr>\n",
       "      <th>6</th>\n",
       "      <td>7</td>\n",
       "      <td>Michael Bloomberg</td>\n",
       "      <td>$94.5 billion</td>\n",
       "      <td>81</td>\n",
       "      <td>United States</td>\n",
       "      <td>Bloomberg L.P.</td>\n",
       "      <td>162</td>\n",
       "    </tr>\n",
       "    <tr>\n",
       "      <th>3</th>\n",
       "      <td>4</td>\n",
       "      <td>Larry Ellison</td>\n",
       "      <td>$107 billion</td>\n",
       "      <td>78</td>\n",
       "      <td>United States</td>\n",
       "      <td>Oracle Corporation</td>\n",
       "      <td>156</td>\n",
       "    </tr>\n",
       "    <tr>\n",
       "      <th>2</th>\n",
       "      <td>3</td>\n",
       "      <td>Jeff Bezos</td>\n",
       "      <td>$114 billion</td>\n",
       "      <td>59</td>\n",
       "      <td>United States</td>\n",
       "      <td>Amazon</td>\n",
       "      <td>118</td>\n",
       "    </tr>\n",
       "    <tr>\n",
       "      <th>1</th>\n",
       "      <td>2</td>\n",
       "      <td>Elon Musk</td>\n",
       "      <td>$180 billion</td>\n",
       "      <td>51</td>\n",
       "      <td>United States</td>\n",
       "      <td>Tesla, SpaceX</td>\n",
       "      <td>102</td>\n",
       "    </tr>\n",
       "    <tr>\n",
       "      <th>7</th>\n",
       "      <td>8</td>\n",
       "      <td>Carlos Slim &amp; family</td>\n",
       "      <td>$93 billion</td>\n",
       "      <td>83</td>\n",
       "      <td>Mexico</td>\n",
       "      <td>Telmex, América Móvil, Grupo Carso</td>\n",
       "      <td>166</td>\n",
       "    </tr>\n",
       "    <tr>\n",
       "      <th>5</th>\n",
       "      <td>6</td>\n",
       "      <td>Bill Gates</td>\n",
       "      <td>$104 billion</td>\n",
       "      <td>67</td>\n",
       "      <td>United States</td>\n",
       "      <td>Microsoft</td>\n",
       "      <td>134</td>\n",
       "    </tr>\n",
       "    <tr>\n",
       "      <th>0</th>\n",
       "      <td>1</td>\n",
       "      <td>Bernard Arnault &amp; family</td>\n",
       "      <td>$211 billion</td>\n",
       "      <td>74</td>\n",
       "      <td>France</td>\n",
       "      <td>LVMH</td>\n",
       "      <td>148</td>\n",
       "    </tr>\n",
       "  </tbody>\n",
       "</table>\n",
       "</div>"
      ],
      "text/plain": [
       "   S/N                      Name Net worth (USD)  Age    Nationality  \\\n",
       "4    5            Warren Buffett    $106 billion   92  United States   \n",
       "9   10             Steve Ballmer   $80.7 billion   67  United States   \n",
       "8    9             Mukesh Ambani   $83.4 billion   65          India   \n",
       "6    7         Michael Bloomberg   $94.5 billion   81  United States   \n",
       "3    4             Larry Ellison    $107 billion   78  United States   \n",
       "2    3                Jeff Bezos    $114 billion   59  United States   \n",
       "1    2                 Elon Musk    $180 billion   51  United States   \n",
       "7    8      Carlos Slim & family     $93 billion   83         Mexico   \n",
       "5    6                Bill Gates    $104 billion   67  United States   \n",
       "0    1  Bernard Arnault & family    $211 billion   74         France   \n",
       "\n",
       "          Primary source(s) of wealth  Double Age  \n",
       "4                  Berkshire Hathaway         184  \n",
       "9                           Microsoft         134  \n",
       "8                 Reliance Industries         130  \n",
       "6                      Bloomberg L.P.         162  \n",
       "3                  Oracle Corporation         156  \n",
       "2                              Amazon         118  \n",
       "1                       Tesla, SpaceX         102  \n",
       "7  Telmex, América Móvil, Grupo Carso         166  \n",
       "5                           Microsoft         134  \n",
       "0                                LVMH         148  "
      ]
     },
     "execution_count": 223,
     "metadata": {},
     "output_type": "execute_result"
    }
   ],
   "source": [
    "# sorting data\n",
    "df.sort_values(by=\"Name\", ascending=False)"
   ]
  },
  {
   "cell_type": "code",
   "execution_count": 232,
   "id": "1fd6a853",
   "metadata": {},
   "outputs": [
    {
     "data": {
      "text/html": [
       "<div>\n",
       "<style scoped>\n",
       "    .dataframe tbody tr th:only-of-type {\n",
       "        vertical-align: middle;\n",
       "    }\n",
       "\n",
       "    .dataframe tbody tr th {\n",
       "        vertical-align: top;\n",
       "    }\n",
       "\n",
       "    .dataframe thead th {\n",
       "        text-align: right;\n",
       "    }\n",
       "</style>\n",
       "<table border=\"1\" class=\"dataframe\">\n",
       "  <thead>\n",
       "    <tr style=\"text-align: right;\">\n",
       "      <th></th>\n",
       "      <th>S/N</th>\n",
       "      <th>Name</th>\n",
       "      <th>Net worth (USD)</th>\n",
       "      <th>Age</th>\n",
       "      <th>Nationality</th>\n",
       "      <th>Primary source(s) of wealth</th>\n",
       "      <th>Double Age</th>\n",
       "    </tr>\n",
       "  </thead>\n",
       "  <tbody>\n",
       "    <tr>\n",
       "      <th>0</th>\n",
       "      <td>1</td>\n",
       "      <td>Bernard Arnault &amp; family</td>\n",
       "      <td>$211 billion</td>\n",
       "      <td>74</td>\n",
       "      <td>France</td>\n",
       "      <td>LVMH</td>\n",
       "      <td>148</td>\n",
       "    </tr>\n",
       "    <tr>\n",
       "      <th>7</th>\n",
       "      <td>8</td>\n",
       "      <td>Carlos Slim &amp; family</td>\n",
       "      <td>$93 billion</td>\n",
       "      <td>83</td>\n",
       "      <td>Mexico</td>\n",
       "      <td>Telmex, América Móvil, Grupo Carso</td>\n",
       "      <td>166</td>\n",
       "    </tr>\n",
       "    <tr>\n",
       "      <th>8</th>\n",
       "      <td>9</td>\n",
       "      <td>Mukesh Ambani</td>\n",
       "      <td>$83.4 billion</td>\n",
       "      <td>65</td>\n",
       "      <td>India</td>\n",
       "      <td>Reliance Industries</td>\n",
       "      <td>130</td>\n",
       "    </tr>\n",
       "  </tbody>\n",
       "</table>\n",
       "</div>"
      ],
      "text/plain": [
       "   S/N                      Name Net worth (USD)  Age Nationality  \\\n",
       "0    1  Bernard Arnault & family    $211 billion   74      France   \n",
       "7    8      Carlos Slim & family     $93 billion   83      Mexico   \n",
       "8    9             Mukesh Ambani   $83.4 billion   65       India   \n",
       "\n",
       "          Primary source(s) of wealth  Double Age  \n",
       "0                                LVMH         148  \n",
       "7  Telmex, América Móvil, Grupo Carso         166  \n",
       "8                 Reliance Industries         130  "
      ]
     },
     "execution_count": 232,
     "metadata": {},
     "output_type": "execute_result"
    }
   ],
   "source": [
    "# filtering data\n",
    "df[(df[\"Nationality\"] != \"United States\") & (df[\"Age\"] > 60)]"
   ]
  },
  {
   "cell_type": "code",
   "execution_count": 233,
   "id": "e23b390e",
   "metadata": {},
   "outputs": [
    {
     "data": {
      "text/html": [
       "<div>\n",
       "<style scoped>\n",
       "    .dataframe tbody tr th:only-of-type {\n",
       "        vertical-align: middle;\n",
       "    }\n",
       "\n",
       "    .dataframe tbody tr th {\n",
       "        vertical-align: top;\n",
       "    }\n",
       "\n",
       "    .dataframe thead th {\n",
       "        text-align: right;\n",
       "    }\n",
       "</style>\n",
       "<table border=\"1\" class=\"dataframe\">\n",
       "  <thead>\n",
       "    <tr style=\"text-align: right;\">\n",
       "      <th></th>\n",
       "      <th>S/N</th>\n",
       "      <th>Name</th>\n",
       "      <th>Net worth (USD)</th>\n",
       "      <th>Age</th>\n",
       "      <th>Nationality</th>\n",
       "      <th>Primary source(s) of wealth</th>\n",
       "      <th>Double Age</th>\n",
       "    </tr>\n",
       "  </thead>\n",
       "  <tbody>\n",
       "    <tr>\n",
       "      <th>0</th>\n",
       "      <td>1</td>\n",
       "      <td>Bernard Arnault &amp; family</td>\n",
       "      <td>$211 billion</td>\n",
       "      <td>74</td>\n",
       "      <td>France</td>\n",
       "      <td>LVMH</td>\n",
       "      <td>148</td>\n",
       "    </tr>\n",
       "    <tr>\n",
       "      <th>3</th>\n",
       "      <td>4</td>\n",
       "      <td>Larry Ellison</td>\n",
       "      <td>$107 billion</td>\n",
       "      <td>78</td>\n",
       "      <td>United States</td>\n",
       "      <td>Oracle Corporation</td>\n",
       "      <td>156</td>\n",
       "    </tr>\n",
       "    <tr>\n",
       "      <th>4</th>\n",
       "      <td>5</td>\n",
       "      <td>Warren Buffett</td>\n",
       "      <td>$106 billion</td>\n",
       "      <td>92</td>\n",
       "      <td>United States</td>\n",
       "      <td>Berkshire Hathaway</td>\n",
       "      <td>184</td>\n",
       "    </tr>\n",
       "    <tr>\n",
       "      <th>5</th>\n",
       "      <td>6</td>\n",
       "      <td>Bill Gates</td>\n",
       "      <td>$104 billion</td>\n",
       "      <td>67</td>\n",
       "      <td>United States</td>\n",
       "      <td>Microsoft</td>\n",
       "      <td>134</td>\n",
       "    </tr>\n",
       "    <tr>\n",
       "      <th>6</th>\n",
       "      <td>7</td>\n",
       "      <td>Michael Bloomberg</td>\n",
       "      <td>$94.5 billion</td>\n",
       "      <td>81</td>\n",
       "      <td>United States</td>\n",
       "      <td>Bloomberg L.P.</td>\n",
       "      <td>162</td>\n",
       "    </tr>\n",
       "    <tr>\n",
       "      <th>7</th>\n",
       "      <td>8</td>\n",
       "      <td>Carlos Slim &amp; family</td>\n",
       "      <td>$93 billion</td>\n",
       "      <td>83</td>\n",
       "      <td>Mexico</td>\n",
       "      <td>Telmex, América Móvil, Grupo Carso</td>\n",
       "      <td>166</td>\n",
       "    </tr>\n",
       "    <tr>\n",
       "      <th>8</th>\n",
       "      <td>9</td>\n",
       "      <td>Mukesh Ambani</td>\n",
       "      <td>$83.4 billion</td>\n",
       "      <td>65</td>\n",
       "      <td>India</td>\n",
       "      <td>Reliance Industries</td>\n",
       "      <td>130</td>\n",
       "    </tr>\n",
       "    <tr>\n",
       "      <th>9</th>\n",
       "      <td>10</td>\n",
       "      <td>Steve Ballmer</td>\n",
       "      <td>$80.7 billion</td>\n",
       "      <td>67</td>\n",
       "      <td>United States</td>\n",
       "      <td>Microsoft</td>\n",
       "      <td>134</td>\n",
       "    </tr>\n",
       "  </tbody>\n",
       "</table>\n",
       "</div>"
      ],
      "text/plain": [
       "   S/N                      Name Net worth (USD)  Age    Nationality  \\\n",
       "0    1  Bernard Arnault & family    $211 billion   74         France   \n",
       "3    4             Larry Ellison    $107 billion   78  United States   \n",
       "4    5            Warren Buffett    $106 billion   92  United States   \n",
       "5    6                Bill Gates    $104 billion   67  United States   \n",
       "6    7         Michael Bloomberg   $94.5 billion   81  United States   \n",
       "7    8      Carlos Slim & family     $93 billion   83         Mexico   \n",
       "8    9             Mukesh Ambani   $83.4 billion   65          India   \n",
       "9   10             Steve Ballmer   $80.7 billion   67  United States   \n",
       "\n",
       "          Primary source(s) of wealth  Double Age  \n",
       "0                                LVMH         148  \n",
       "3                  Oracle Corporation         156  \n",
       "4                  Berkshire Hathaway         184  \n",
       "5                           Microsoft         134  \n",
       "6                      Bloomberg L.P.         162  \n",
       "7  Telmex, América Móvil, Grupo Carso         166  \n",
       "8                 Reliance Industries         130  \n",
       "9                           Microsoft         134  "
      ]
     },
     "execution_count": 233,
     "metadata": {},
     "output_type": "execute_result"
    }
   ],
   "source": [
    "df[(df[\"Nationality\"] != \"United States\") | (df[\"Age\"] > 60)]"
   ]
  },
  {
   "cell_type": "code",
   "execution_count": 238,
   "id": "1efaeb80",
   "metadata": {},
   "outputs": [
    {
     "data": {
      "text/html": [
       "<div>\n",
       "<style scoped>\n",
       "    .dataframe tbody tr th:only-of-type {\n",
       "        vertical-align: middle;\n",
       "    }\n",
       "\n",
       "    .dataframe tbody tr th {\n",
       "        vertical-align: top;\n",
       "    }\n",
       "\n",
       "    .dataframe thead th {\n",
       "        text-align: right;\n",
       "    }\n",
       "</style>\n",
       "<table border=\"1\" class=\"dataframe\">\n",
       "  <thead>\n",
       "    <tr style=\"text-align: right;\">\n",
       "      <th></th>\n",
       "      <th>S/N</th>\n",
       "      <th>Name</th>\n",
       "      <th>Net worth (USD)</th>\n",
       "      <th>Age</th>\n",
       "      <th>Nationality</th>\n",
       "      <th>Primary source(s) of wealth</th>\n",
       "      <th>Double Age</th>\n",
       "    </tr>\n",
       "  </thead>\n",
       "  <tbody>\n",
       "    <tr>\n",
       "      <th>7</th>\n",
       "      <td>8</td>\n",
       "      <td>Carlos Slim &amp; family</td>\n",
       "      <td>$93 billion</td>\n",
       "      <td>83</td>\n",
       "      <td>Mexico</td>\n",
       "      <td>Telmex, América Móvil, Grupo Carso</td>\n",
       "      <td>166</td>\n",
       "    </tr>\n",
       "    <tr>\n",
       "      <th>8</th>\n",
       "      <td>9</td>\n",
       "      <td>Mukesh Ambani</td>\n",
       "      <td>$83.4 billion</td>\n",
       "      <td>65</td>\n",
       "      <td>India</td>\n",
       "      <td>Reliance Industries</td>\n",
       "      <td>130</td>\n",
       "    </tr>\n",
       "  </tbody>\n",
       "</table>\n",
       "</div>"
      ],
      "text/plain": [
       "   S/N                  Name Net worth (USD)  Age Nationality  \\\n",
       "7    8  Carlos Slim & family     $93 billion   83      Mexico   \n",
       "8    9         Mukesh Ambani   $83.4 billion   65       India   \n",
       "\n",
       "          Primary source(s) of wealth  Double Age  \n",
       "7  Telmex, América Móvil, Grupo Carso         166  \n",
       "8                 Reliance Industries         130  "
      ]
     },
     "execution_count": 238,
     "metadata": {},
     "output_type": "execute_result"
    }
   ],
   "source": [
    "df[df[\"Nationality\"].isin([\"India\", \"Mexico\"])]"
   ]
  },
  {
   "cell_type": "code",
   "execution_count": 240,
   "id": "e34b470e",
   "metadata": {},
   "outputs": [],
   "source": [
    "# useful functions\n",
    "def firstname(x):\n",
    "    return x.split()[0]"
   ]
  },
  {
   "cell_type": "code",
   "execution_count": 242,
   "id": "dfb1f756",
   "metadata": {},
   "outputs": [
    {
     "data": {
      "text/plain": [
       "'Elon'"
      ]
     },
     "execution_count": 242,
     "metadata": {},
     "output_type": "execute_result"
    }
   ],
   "source": [
    "firstname(\"Elon Musk\")"
   ]
  },
  {
   "cell_type": "code",
   "execution_count": 243,
   "id": "a8ba48a7",
   "metadata": {},
   "outputs": [
    {
     "data": {
      "text/html": [
       "<div>\n",
       "<style scoped>\n",
       "    .dataframe tbody tr th:only-of-type {\n",
       "        vertical-align: middle;\n",
       "    }\n",
       "\n",
       "    .dataframe tbody tr th {\n",
       "        vertical-align: top;\n",
       "    }\n",
       "\n",
       "    .dataframe thead th {\n",
       "        text-align: right;\n",
       "    }\n",
       "</style>\n",
       "<table border=\"1\" class=\"dataframe\">\n",
       "  <thead>\n",
       "    <tr style=\"text-align: right;\">\n",
       "      <th></th>\n",
       "      <th>S/N</th>\n",
       "      <th>Name</th>\n",
       "      <th>Net worth (USD)</th>\n",
       "      <th>Age</th>\n",
       "      <th>Nationality</th>\n",
       "      <th>Primary source(s) of wealth</th>\n",
       "      <th>Double Age</th>\n",
       "      <th>firstname</th>\n",
       "    </tr>\n",
       "  </thead>\n",
       "  <tbody>\n",
       "    <tr>\n",
       "      <th>0</th>\n",
       "      <td>1</td>\n",
       "      <td>Bernard Arnault &amp; family</td>\n",
       "      <td>$211 billion</td>\n",
       "      <td>74</td>\n",
       "      <td>France</td>\n",
       "      <td>LVMH</td>\n",
       "      <td>148</td>\n",
       "      <td>Bernard</td>\n",
       "    </tr>\n",
       "    <tr>\n",
       "      <th>1</th>\n",
       "      <td>2</td>\n",
       "      <td>Elon Musk</td>\n",
       "      <td>$180 billion</td>\n",
       "      <td>51</td>\n",
       "      <td>United States</td>\n",
       "      <td>Tesla, SpaceX</td>\n",
       "      <td>102</td>\n",
       "      <td>Elon</td>\n",
       "    </tr>\n",
       "    <tr>\n",
       "      <th>2</th>\n",
       "      <td>3</td>\n",
       "      <td>Jeff Bezos</td>\n",
       "      <td>$114 billion</td>\n",
       "      <td>59</td>\n",
       "      <td>United States</td>\n",
       "      <td>Amazon</td>\n",
       "      <td>118</td>\n",
       "      <td>Jeff</td>\n",
       "    </tr>\n",
       "    <tr>\n",
       "      <th>3</th>\n",
       "      <td>4</td>\n",
       "      <td>Larry Ellison</td>\n",
       "      <td>$107 billion</td>\n",
       "      <td>78</td>\n",
       "      <td>United States</td>\n",
       "      <td>Oracle Corporation</td>\n",
       "      <td>156</td>\n",
       "      <td>Larry</td>\n",
       "    </tr>\n",
       "    <tr>\n",
       "      <th>4</th>\n",
       "      <td>5</td>\n",
       "      <td>Warren Buffett</td>\n",
       "      <td>$106 billion</td>\n",
       "      <td>92</td>\n",
       "      <td>United States</td>\n",
       "      <td>Berkshire Hathaway</td>\n",
       "      <td>184</td>\n",
       "      <td>Warren</td>\n",
       "    </tr>\n",
       "    <tr>\n",
       "      <th>5</th>\n",
       "      <td>6</td>\n",
       "      <td>Bill Gates</td>\n",
       "      <td>$104 billion</td>\n",
       "      <td>67</td>\n",
       "      <td>United States</td>\n",
       "      <td>Microsoft</td>\n",
       "      <td>134</td>\n",
       "      <td>Bill</td>\n",
       "    </tr>\n",
       "    <tr>\n",
       "      <th>6</th>\n",
       "      <td>7</td>\n",
       "      <td>Michael Bloomberg</td>\n",
       "      <td>$94.5 billion</td>\n",
       "      <td>81</td>\n",
       "      <td>United States</td>\n",
       "      <td>Bloomberg L.P.</td>\n",
       "      <td>162</td>\n",
       "      <td>Michael</td>\n",
       "    </tr>\n",
       "    <tr>\n",
       "      <th>7</th>\n",
       "      <td>8</td>\n",
       "      <td>Carlos Slim &amp; family</td>\n",
       "      <td>$93 billion</td>\n",
       "      <td>83</td>\n",
       "      <td>Mexico</td>\n",
       "      <td>Telmex, América Móvil, Grupo Carso</td>\n",
       "      <td>166</td>\n",
       "      <td>Carlos</td>\n",
       "    </tr>\n",
       "    <tr>\n",
       "      <th>8</th>\n",
       "      <td>9</td>\n",
       "      <td>Mukesh Ambani</td>\n",
       "      <td>$83.4 billion</td>\n",
       "      <td>65</td>\n",
       "      <td>India</td>\n",
       "      <td>Reliance Industries</td>\n",
       "      <td>130</td>\n",
       "      <td>Mukesh</td>\n",
       "    </tr>\n",
       "    <tr>\n",
       "      <th>9</th>\n",
       "      <td>10</td>\n",
       "      <td>Steve Ballmer</td>\n",
       "      <td>$80.7 billion</td>\n",
       "      <td>67</td>\n",
       "      <td>United States</td>\n",
       "      <td>Microsoft</td>\n",
       "      <td>134</td>\n",
       "      <td>Steve</td>\n",
       "    </tr>\n",
       "  </tbody>\n",
       "</table>\n",
       "</div>"
      ],
      "text/plain": [
       "   S/N                      Name Net worth (USD)  Age    Nationality  \\\n",
       "0    1  Bernard Arnault & family    $211 billion   74         France   \n",
       "1    2                 Elon Musk    $180 billion   51  United States   \n",
       "2    3                Jeff Bezos    $114 billion   59  United States   \n",
       "3    4             Larry Ellison    $107 billion   78  United States   \n",
       "4    5            Warren Buffett    $106 billion   92  United States   \n",
       "5    6                Bill Gates    $104 billion   67  United States   \n",
       "6    7         Michael Bloomberg   $94.5 billion   81  United States   \n",
       "7    8      Carlos Slim & family     $93 billion   83         Mexico   \n",
       "8    9             Mukesh Ambani   $83.4 billion   65          India   \n",
       "9   10             Steve Ballmer   $80.7 billion   67  United States   \n",
       "\n",
       "          Primary source(s) of wealth  Double Age firstname  \n",
       "0                                LVMH         148   Bernard  \n",
       "1                       Tesla, SpaceX         102      Elon  \n",
       "2                              Amazon         118      Jeff  \n",
       "3                  Oracle Corporation         156     Larry  \n",
       "4                  Berkshire Hathaway         184    Warren  \n",
       "5                           Microsoft         134      Bill  \n",
       "6                      Bloomberg L.P.         162   Michael  \n",
       "7  Telmex, América Móvil, Grupo Carso         166    Carlos  \n",
       "8                 Reliance Industries         130    Mukesh  \n",
       "9                           Microsoft         134     Steve  "
      ]
     },
     "execution_count": 243,
     "metadata": {},
     "output_type": "execute_result"
    }
   ],
   "source": [
    "df[\"firstname\"] = df[\"Name\"].apply(firstname)\n",
    "df"
   ]
  },
  {
   "cell_type": "code",
   "execution_count": 244,
   "id": "de26bb9a",
   "metadata": {},
   "outputs": [],
   "source": [
    "def lastname(x):\n",
    "    return x.split()[1]"
   ]
  },
  {
   "cell_type": "code",
   "execution_count": 246,
   "id": "f3a61042",
   "metadata": {},
   "outputs": [
    {
     "data": {
      "text/plain": [
       "'Musk'"
      ]
     },
     "execution_count": 246,
     "metadata": {},
     "output_type": "execute_result"
    }
   ],
   "source": [
    "lastname(\"Elon Musk\")"
   ]
  },
  {
   "cell_type": "code",
   "execution_count": 247,
   "id": "30ffba51",
   "metadata": {},
   "outputs": [
    {
     "data": {
      "text/html": [
       "<div>\n",
       "<style scoped>\n",
       "    .dataframe tbody tr th:only-of-type {\n",
       "        vertical-align: middle;\n",
       "    }\n",
       "\n",
       "    .dataframe tbody tr th {\n",
       "        vertical-align: top;\n",
       "    }\n",
       "\n",
       "    .dataframe thead th {\n",
       "        text-align: right;\n",
       "    }\n",
       "</style>\n",
       "<table border=\"1\" class=\"dataframe\">\n",
       "  <thead>\n",
       "    <tr style=\"text-align: right;\">\n",
       "      <th></th>\n",
       "      <th>S/N</th>\n",
       "      <th>Name</th>\n",
       "      <th>Net worth (USD)</th>\n",
       "      <th>Age</th>\n",
       "      <th>Nationality</th>\n",
       "      <th>Primary source(s) of wealth</th>\n",
       "      <th>Double Age</th>\n",
       "      <th>firstname</th>\n",
       "      <th>Lastname</th>\n",
       "    </tr>\n",
       "  </thead>\n",
       "  <tbody>\n",
       "    <tr>\n",
       "      <th>0</th>\n",
       "      <td>1</td>\n",
       "      <td>Bernard Arnault &amp; family</td>\n",
       "      <td>$211 billion</td>\n",
       "      <td>74</td>\n",
       "      <td>France</td>\n",
       "      <td>LVMH</td>\n",
       "      <td>148</td>\n",
       "      <td>Bernard</td>\n",
       "      <td>Arnault</td>\n",
       "    </tr>\n",
       "    <tr>\n",
       "      <th>1</th>\n",
       "      <td>2</td>\n",
       "      <td>Elon Musk</td>\n",
       "      <td>$180 billion</td>\n",
       "      <td>51</td>\n",
       "      <td>United States</td>\n",
       "      <td>Tesla, SpaceX</td>\n",
       "      <td>102</td>\n",
       "      <td>Elon</td>\n",
       "      <td>Musk</td>\n",
       "    </tr>\n",
       "    <tr>\n",
       "      <th>2</th>\n",
       "      <td>3</td>\n",
       "      <td>Jeff Bezos</td>\n",
       "      <td>$114 billion</td>\n",
       "      <td>59</td>\n",
       "      <td>United States</td>\n",
       "      <td>Amazon</td>\n",
       "      <td>118</td>\n",
       "      <td>Jeff</td>\n",
       "      <td>Bezos</td>\n",
       "    </tr>\n",
       "    <tr>\n",
       "      <th>3</th>\n",
       "      <td>4</td>\n",
       "      <td>Larry Ellison</td>\n",
       "      <td>$107 billion</td>\n",
       "      <td>78</td>\n",
       "      <td>United States</td>\n",
       "      <td>Oracle Corporation</td>\n",
       "      <td>156</td>\n",
       "      <td>Larry</td>\n",
       "      <td>Ellison</td>\n",
       "    </tr>\n",
       "    <tr>\n",
       "      <th>4</th>\n",
       "      <td>5</td>\n",
       "      <td>Warren Buffett</td>\n",
       "      <td>$106 billion</td>\n",
       "      <td>92</td>\n",
       "      <td>United States</td>\n",
       "      <td>Berkshire Hathaway</td>\n",
       "      <td>184</td>\n",
       "      <td>Warren</td>\n",
       "      <td>Buffett</td>\n",
       "    </tr>\n",
       "    <tr>\n",
       "      <th>5</th>\n",
       "      <td>6</td>\n",
       "      <td>Bill Gates</td>\n",
       "      <td>$104 billion</td>\n",
       "      <td>67</td>\n",
       "      <td>United States</td>\n",
       "      <td>Microsoft</td>\n",
       "      <td>134</td>\n",
       "      <td>Bill</td>\n",
       "      <td>Gates</td>\n",
       "    </tr>\n",
       "    <tr>\n",
       "      <th>6</th>\n",
       "      <td>7</td>\n",
       "      <td>Michael Bloomberg</td>\n",
       "      <td>$94.5 billion</td>\n",
       "      <td>81</td>\n",
       "      <td>United States</td>\n",
       "      <td>Bloomberg L.P.</td>\n",
       "      <td>162</td>\n",
       "      <td>Michael</td>\n",
       "      <td>Bloomberg</td>\n",
       "    </tr>\n",
       "    <tr>\n",
       "      <th>7</th>\n",
       "      <td>8</td>\n",
       "      <td>Carlos Slim &amp; family</td>\n",
       "      <td>$93 billion</td>\n",
       "      <td>83</td>\n",
       "      <td>Mexico</td>\n",
       "      <td>Telmex, América Móvil, Grupo Carso</td>\n",
       "      <td>166</td>\n",
       "      <td>Carlos</td>\n",
       "      <td>Slim</td>\n",
       "    </tr>\n",
       "    <tr>\n",
       "      <th>8</th>\n",
       "      <td>9</td>\n",
       "      <td>Mukesh Ambani</td>\n",
       "      <td>$83.4 billion</td>\n",
       "      <td>65</td>\n",
       "      <td>India</td>\n",
       "      <td>Reliance Industries</td>\n",
       "      <td>130</td>\n",
       "      <td>Mukesh</td>\n",
       "      <td>Ambani</td>\n",
       "    </tr>\n",
       "    <tr>\n",
       "      <th>9</th>\n",
       "      <td>10</td>\n",
       "      <td>Steve Ballmer</td>\n",
       "      <td>$80.7 billion</td>\n",
       "      <td>67</td>\n",
       "      <td>United States</td>\n",
       "      <td>Microsoft</td>\n",
       "      <td>134</td>\n",
       "      <td>Steve</td>\n",
       "      <td>Ballmer</td>\n",
       "    </tr>\n",
       "  </tbody>\n",
       "</table>\n",
       "</div>"
      ],
      "text/plain": [
       "   S/N                      Name Net worth (USD)  Age    Nationality  \\\n",
       "0    1  Bernard Arnault & family    $211 billion   74         France   \n",
       "1    2                 Elon Musk    $180 billion   51  United States   \n",
       "2    3                Jeff Bezos    $114 billion   59  United States   \n",
       "3    4             Larry Ellison    $107 billion   78  United States   \n",
       "4    5            Warren Buffett    $106 billion   92  United States   \n",
       "5    6                Bill Gates    $104 billion   67  United States   \n",
       "6    7         Michael Bloomberg   $94.5 billion   81  United States   \n",
       "7    8      Carlos Slim & family     $93 billion   83         Mexico   \n",
       "8    9             Mukesh Ambani   $83.4 billion   65          India   \n",
       "9   10             Steve Ballmer   $80.7 billion   67  United States   \n",
       "\n",
       "          Primary source(s) of wealth  Double Age firstname   Lastname  \n",
       "0                                LVMH         148   Bernard    Arnault  \n",
       "1                       Tesla, SpaceX         102      Elon       Musk  \n",
       "2                              Amazon         118      Jeff      Bezos  \n",
       "3                  Oracle Corporation         156     Larry    Ellison  \n",
       "4                  Berkshire Hathaway         184    Warren    Buffett  \n",
       "5                           Microsoft         134      Bill      Gates  \n",
       "6                      Bloomberg L.P.         162   Michael  Bloomberg  \n",
       "7  Telmex, América Móvil, Grupo Carso         166    Carlos       Slim  \n",
       "8                 Reliance Industries         130    Mukesh     Ambani  \n",
       "9                           Microsoft         134     Steve    Ballmer  "
      ]
     },
     "execution_count": 247,
     "metadata": {},
     "output_type": "execute_result"
    }
   ],
   "source": [
    "df[\"Lastname\"] = df[\"Name\"].apply(lastname)\n",
    "df"
   ]
  },
  {
   "cell_type": "code",
   "execution_count": 248,
   "id": "69b10651",
   "metadata": {},
   "outputs": [
    {
     "data": {
      "text/html": [
       "<div>\n",
       "<style scoped>\n",
       "    .dataframe tbody tr th:only-of-type {\n",
       "        vertical-align: middle;\n",
       "    }\n",
       "\n",
       "    .dataframe tbody tr th {\n",
       "        vertical-align: top;\n",
       "    }\n",
       "\n",
       "    .dataframe thead th {\n",
       "        text-align: right;\n",
       "    }\n",
       "</style>\n",
       "<table border=\"1\" class=\"dataframe\">\n",
       "  <thead>\n",
       "    <tr style=\"text-align: right;\">\n",
       "      <th></th>\n",
       "      <th>S/N</th>\n",
       "      <th>Name</th>\n",
       "      <th>Net worth (USD)</th>\n",
       "      <th>Age</th>\n",
       "      <th>Nationality</th>\n",
       "      <th>Primary source(s) of wealth</th>\n",
       "      <th>Double Age</th>\n",
       "      <th>firstname</th>\n",
       "      <th>Lastname</th>\n",
       "    </tr>\n",
       "  </thead>\n",
       "  <tbody>\n",
       "    <tr>\n",
       "      <th>0</th>\n",
       "      <td>1</td>\n",
       "      <td>Bernard Arnault &amp; family</td>\n",
       "      <td>$211 billion</td>\n",
       "      <td>74</td>\n",
       "      <td>France</td>\n",
       "      <td>LVMH</td>\n",
       "      <td>148</td>\n",
       "      <td>Bernard</td>\n",
       "      <td>Arnault</td>\n",
       "    </tr>\n",
       "    <tr>\n",
       "      <th>1</th>\n",
       "      <td>2</td>\n",
       "      <td>Elon Musk</td>\n",
       "      <td>$180 billion</td>\n",
       "      <td>51</td>\n",
       "      <td>United States</td>\n",
       "      <td>Tesla, SpaceX</td>\n",
       "      <td>102</td>\n",
       "      <td>Elon</td>\n",
       "      <td>Musk</td>\n",
       "    </tr>\n",
       "    <tr>\n",
       "      <th>2</th>\n",
       "      <td>3</td>\n",
       "      <td>Jeff Bezos</td>\n",
       "      <td>$114 billion</td>\n",
       "      <td>59</td>\n",
       "      <td>United States</td>\n",
       "      <td>Amazon</td>\n",
       "      <td>118</td>\n",
       "      <td>Jeff</td>\n",
       "      <td>Bezos</td>\n",
       "    </tr>\n",
       "    <tr>\n",
       "      <th>3</th>\n",
       "      <td>4</td>\n",
       "      <td>Larry Ellison</td>\n",
       "      <td>$107 billion</td>\n",
       "      <td>78</td>\n",
       "      <td>United States</td>\n",
       "      <td>Oracle Corporation</td>\n",
       "      <td>156</td>\n",
       "      <td>Larry</td>\n",
       "      <td>Ellison</td>\n",
       "    </tr>\n",
       "    <tr>\n",
       "      <th>4</th>\n",
       "      <td>5</td>\n",
       "      <td>Warren Buffett</td>\n",
       "      <td>$106 billion</td>\n",
       "      <td>92</td>\n",
       "      <td>United States</td>\n",
       "      <td>Berkshire Hathaway</td>\n",
       "      <td>184</td>\n",
       "      <td>Warren</td>\n",
       "      <td>Buffett</td>\n",
       "    </tr>\n",
       "  </tbody>\n",
       "</table>\n",
       "</div>"
      ],
      "text/plain": [
       "   S/N                      Name Net worth (USD)  Age    Nationality  \\\n",
       "0    1  Bernard Arnault & family    $211 billion   74         France   \n",
       "1    2                 Elon Musk    $180 billion   51  United States   \n",
       "2    3                Jeff Bezos    $114 billion   59  United States   \n",
       "3    4             Larry Ellison    $107 billion   78  United States   \n",
       "4    5            Warren Buffett    $106 billion   92  United States   \n",
       "\n",
       "  Primary source(s) of wealth  Double Age firstname Lastname  \n",
       "0                        LVMH         148   Bernard  Arnault  \n",
       "1               Tesla, SpaceX         102      Elon     Musk  \n",
       "2                      Amazon         118      Jeff    Bezos  \n",
       "3          Oracle Corporation         156     Larry  Ellison  \n",
       "4          Berkshire Hathaway         184    Warren  Buffett  "
      ]
     },
     "execution_count": 248,
     "metadata": {},
     "output_type": "execute_result"
    }
   ],
   "source": [
    "#first 5 rows\n",
    "df.head()"
   ]
  },
  {
   "cell_type": "code",
   "execution_count": 249,
   "id": "ad7911c6",
   "metadata": {},
   "outputs": [
    {
     "data": {
      "text/html": [
       "<div>\n",
       "<style scoped>\n",
       "    .dataframe tbody tr th:only-of-type {\n",
       "        vertical-align: middle;\n",
       "    }\n",
       "\n",
       "    .dataframe tbody tr th {\n",
       "        vertical-align: top;\n",
       "    }\n",
       "\n",
       "    .dataframe thead th {\n",
       "        text-align: right;\n",
       "    }\n",
       "</style>\n",
       "<table border=\"1\" class=\"dataframe\">\n",
       "  <thead>\n",
       "    <tr style=\"text-align: right;\">\n",
       "      <th></th>\n",
       "      <th>S/N</th>\n",
       "      <th>Name</th>\n",
       "      <th>Net worth (USD)</th>\n",
       "      <th>Age</th>\n",
       "      <th>Nationality</th>\n",
       "      <th>Primary source(s) of wealth</th>\n",
       "      <th>Double Age</th>\n",
       "      <th>firstname</th>\n",
       "      <th>Lastname</th>\n",
       "    </tr>\n",
       "  </thead>\n",
       "  <tbody>\n",
       "    <tr>\n",
       "      <th>5</th>\n",
       "      <td>6</td>\n",
       "      <td>Bill Gates</td>\n",
       "      <td>$104 billion</td>\n",
       "      <td>67</td>\n",
       "      <td>United States</td>\n",
       "      <td>Microsoft</td>\n",
       "      <td>134</td>\n",
       "      <td>Bill</td>\n",
       "      <td>Gates</td>\n",
       "    </tr>\n",
       "    <tr>\n",
       "      <th>6</th>\n",
       "      <td>7</td>\n",
       "      <td>Michael Bloomberg</td>\n",
       "      <td>$94.5 billion</td>\n",
       "      <td>81</td>\n",
       "      <td>United States</td>\n",
       "      <td>Bloomberg L.P.</td>\n",
       "      <td>162</td>\n",
       "      <td>Michael</td>\n",
       "      <td>Bloomberg</td>\n",
       "    </tr>\n",
       "    <tr>\n",
       "      <th>7</th>\n",
       "      <td>8</td>\n",
       "      <td>Carlos Slim &amp; family</td>\n",
       "      <td>$93 billion</td>\n",
       "      <td>83</td>\n",
       "      <td>Mexico</td>\n",
       "      <td>Telmex, América Móvil, Grupo Carso</td>\n",
       "      <td>166</td>\n",
       "      <td>Carlos</td>\n",
       "      <td>Slim</td>\n",
       "    </tr>\n",
       "    <tr>\n",
       "      <th>8</th>\n",
       "      <td>9</td>\n",
       "      <td>Mukesh Ambani</td>\n",
       "      <td>$83.4 billion</td>\n",
       "      <td>65</td>\n",
       "      <td>India</td>\n",
       "      <td>Reliance Industries</td>\n",
       "      <td>130</td>\n",
       "      <td>Mukesh</td>\n",
       "      <td>Ambani</td>\n",
       "    </tr>\n",
       "    <tr>\n",
       "      <th>9</th>\n",
       "      <td>10</td>\n",
       "      <td>Steve Ballmer</td>\n",
       "      <td>$80.7 billion</td>\n",
       "      <td>67</td>\n",
       "      <td>United States</td>\n",
       "      <td>Microsoft</td>\n",
       "      <td>134</td>\n",
       "      <td>Steve</td>\n",
       "      <td>Ballmer</td>\n",
       "    </tr>\n",
       "  </tbody>\n",
       "</table>\n",
       "</div>"
      ],
      "text/plain": [
       "   S/N                  Name Net worth (USD)  Age    Nationality  \\\n",
       "5    6            Bill Gates    $104 billion   67  United States   \n",
       "6    7     Michael Bloomberg   $94.5 billion   81  United States   \n",
       "7    8  Carlos Slim & family     $93 billion   83         Mexico   \n",
       "8    9         Mukesh Ambani   $83.4 billion   65          India   \n",
       "9   10         Steve Ballmer   $80.7 billion   67  United States   \n",
       "\n",
       "          Primary source(s) of wealth  Double Age firstname   Lastname  \n",
       "5                           Microsoft         134      Bill      Gates  \n",
       "6                      Bloomberg L.P.         162   Michael  Bloomberg  \n",
       "7  Telmex, América Móvil, Grupo Carso         166    Carlos       Slim  \n",
       "8                 Reliance Industries         130    Mukesh     Ambani  \n",
       "9                           Microsoft         134     Steve    Ballmer  "
      ]
     },
     "execution_count": 249,
     "metadata": {},
     "output_type": "execute_result"
    }
   ],
   "source": [
    "#last 5 rows\n",
    "df.tail()"
   ]
  },
  {
   "cell_type": "code",
   "execution_count": 252,
   "id": "de537b7f",
   "metadata": {},
   "outputs": [
    {
     "data": {
      "text/plain": [
       "Nationality\n",
       "United States    7\n",
       "France           1\n",
       "India            1\n",
       "Mexico           1\n",
       "dtype: int64"
      ]
     },
     "execution_count": 252,
     "metadata": {},
     "output_type": "execute_result"
    }
   ],
   "source": [
    "df.value_counts(\"Nationality\")"
   ]
  },
  {
   "cell_type": "code",
   "execution_count": 253,
   "id": "0beed868",
   "metadata": {},
   "outputs": [
    {
     "data": {
      "text/plain": [
       "array(['France', 'United States', 'Mexico', 'India'], dtype=object)"
      ]
     },
     "execution_count": 253,
     "metadata": {},
     "output_type": "execute_result"
    }
   ],
   "source": [
    "df[\"Nationality\"].unique()"
   ]
  },
  {
   "cell_type": "code",
   "execution_count": 254,
   "id": "8f64ff65",
   "metadata": {},
   "outputs": [
    {
     "data": {
      "text/plain": [
       "4"
      ]
     },
     "execution_count": 254,
     "metadata": {},
     "output_type": "execute_result"
    }
   ],
   "source": [
    "df[\"Nationality\"].nunique()"
   ]
  },
  {
   "cell_type": "code",
   "execution_count": 255,
   "id": "6352be9a",
   "metadata": {},
   "outputs": [
    {
     "data": {
      "text/html": [
       "<div>\n",
       "<style scoped>\n",
       "    .dataframe tbody tr th:only-of-type {\n",
       "        vertical-align: middle;\n",
       "    }\n",
       "\n",
       "    .dataframe tbody tr th {\n",
       "        vertical-align: top;\n",
       "    }\n",
       "\n",
       "    .dataframe thead th {\n",
       "        text-align: right;\n",
       "    }\n",
       "</style>\n",
       "<table border=\"1\" class=\"dataframe\">\n",
       "  <thead>\n",
       "    <tr style=\"text-align: right;\">\n",
       "      <th></th>\n",
       "      <th>S/N</th>\n",
       "      <th>Name</th>\n",
       "      <th>Net worth (USD)</th>\n",
       "      <th>Age</th>\n",
       "      <th>Nationality</th>\n",
       "      <th>Primary source(s) of wealth</th>\n",
       "      <th>Double Age</th>\n",
       "      <th>firstname</th>\n",
       "      <th>Lastname</th>\n",
       "    </tr>\n",
       "  </thead>\n",
       "  <tbody>\n",
       "    <tr>\n",
       "      <th>0</th>\n",
       "      <td>1</td>\n",
       "      <td>Bernard Arnault &amp; family</td>\n",
       "      <td>$211 billion</td>\n",
       "      <td>74</td>\n",
       "      <td>France</td>\n",
       "      <td>LVMH</td>\n",
       "      <td>148</td>\n",
       "      <td>Bernard</td>\n",
       "      <td>Arnault</td>\n",
       "    </tr>\n",
       "    <tr>\n",
       "      <th>1</th>\n",
       "      <td>2</td>\n",
       "      <td>Elon Musk</td>\n",
       "      <td>$180 billion</td>\n",
       "      <td>51</td>\n",
       "      <td>United States</td>\n",
       "      <td>Tesla, SpaceX</td>\n",
       "      <td>102</td>\n",
       "      <td>Elon</td>\n",
       "      <td>Musk</td>\n",
       "    </tr>\n",
       "    <tr>\n",
       "      <th>2</th>\n",
       "      <td>3</td>\n",
       "      <td>Jeff Bezos</td>\n",
       "      <td>$114 billion</td>\n",
       "      <td>59</td>\n",
       "      <td>United States</td>\n",
       "      <td>Amazon</td>\n",
       "      <td>118</td>\n",
       "      <td>Jeff</td>\n",
       "      <td>Bezos</td>\n",
       "    </tr>\n",
       "  </tbody>\n",
       "</table>\n",
       "</div>"
      ],
      "text/plain": [
       "   S/N                      Name Net worth (USD)  Age    Nationality  \\\n",
       "0    1  Bernard Arnault & family    $211 billion   74         France   \n",
       "1    2                 Elon Musk    $180 billion   51  United States   \n",
       "2    3                Jeff Bezos    $114 billion   59  United States   \n",
       "\n",
       "  Primary source(s) of wealth  Double Age firstname Lastname  \n",
       "0                        LVMH         148   Bernard  Arnault  \n",
       "1               Tesla, SpaceX         102      Elon     Musk  \n",
       "2                      Amazon         118      Jeff    Bezos  "
      ]
     },
     "execution_count": 255,
     "metadata": {},
     "output_type": "execute_result"
    }
   ],
   "source": [
    "# top 3 billionaire\n",
    "df.head(3)"
   ]
  },
  {
   "cell_type": "code",
   "execution_count": 259,
   "id": "064be774",
   "metadata": {},
   "outputs": [
    {
     "data": {
      "text/plain": [
       "4    92\n",
       "7    83\n",
       "6    81\n",
       "Name: Age, dtype: int64"
      ]
     },
     "execution_count": 259,
     "metadata": {},
     "output_type": "execute_result"
    }
   ],
   "source": [
    "df[\"Age\"].sort_values(ascending=False).head(3)"
   ]
  },
  {
   "cell_type": "code",
   "execution_count": 263,
   "id": "a8257bea",
   "metadata": {},
   "outputs": [
    {
     "data": {
      "text/html": [
       "<div>\n",
       "<style scoped>\n",
       "    .dataframe tbody tr th:only-of-type {\n",
       "        vertical-align: middle;\n",
       "    }\n",
       "\n",
       "    .dataframe tbody tr th {\n",
       "        vertical-align: top;\n",
       "    }\n",
       "\n",
       "    .dataframe thead th {\n",
       "        text-align: right;\n",
       "    }\n",
       "</style>\n",
       "<table border=\"1\" class=\"dataframe\">\n",
       "  <thead>\n",
       "    <tr style=\"text-align: right;\">\n",
       "      <th></th>\n",
       "      <th>S/N</th>\n",
       "      <th>Name</th>\n",
       "      <th>Net worth (USD)</th>\n",
       "      <th>Age</th>\n",
       "      <th>Nationality</th>\n",
       "      <th>Primary source(s) of wealth</th>\n",
       "      <th>Double Age</th>\n",
       "      <th>firstname</th>\n",
       "      <th>Lastname</th>\n",
       "    </tr>\n",
       "  </thead>\n",
       "  <tbody>\n",
       "    <tr>\n",
       "      <th>4</th>\n",
       "      <td>5</td>\n",
       "      <td>Warren Buffett</td>\n",
       "      <td>$106 billion</td>\n",
       "      <td>92</td>\n",
       "      <td>United States</td>\n",
       "      <td>Berkshire Hathaway</td>\n",
       "      <td>184</td>\n",
       "      <td>Warren</td>\n",
       "      <td>Buffett</td>\n",
       "    </tr>\n",
       "    <tr>\n",
       "      <th>7</th>\n",
       "      <td>8</td>\n",
       "      <td>Carlos Slim &amp; family</td>\n",
       "      <td>$93 billion</td>\n",
       "      <td>83</td>\n",
       "      <td>Mexico</td>\n",
       "      <td>Telmex, América Móvil, Grupo Carso</td>\n",
       "      <td>166</td>\n",
       "      <td>Carlos</td>\n",
       "      <td>Slim</td>\n",
       "    </tr>\n",
       "    <tr>\n",
       "      <th>6</th>\n",
       "      <td>7</td>\n",
       "      <td>Michael Bloomberg</td>\n",
       "      <td>$94.5 billion</td>\n",
       "      <td>81</td>\n",
       "      <td>United States</td>\n",
       "      <td>Bloomberg L.P.</td>\n",
       "      <td>162</td>\n",
       "      <td>Michael</td>\n",
       "      <td>Bloomberg</td>\n",
       "    </tr>\n",
       "  </tbody>\n",
       "</table>\n",
       "</div>"
      ],
      "text/plain": [
       "   S/N                  Name Net worth (USD)  Age    Nationality  \\\n",
       "4    5        Warren Buffett    $106 billion   92  United States   \n",
       "7    8  Carlos Slim & family     $93 billion   83         Mexico   \n",
       "6    7     Michael Bloomberg   $94.5 billion   81  United States   \n",
       "\n",
       "          Primary source(s) of wealth  Double Age firstname   Lastname  \n",
       "4                  Berkshire Hathaway         184    Warren    Buffett  \n",
       "7  Telmex, América Móvil, Grupo Carso         166    Carlos       Slim  \n",
       "6                      Bloomberg L.P.         162   Michael  Bloomberg  "
      ]
     },
     "execution_count": 263,
     "metadata": {},
     "output_type": "execute_result"
    }
   ],
   "source": [
    "df.sort_values(by=\"Age\", ascending=False).head(3)"
   ]
  },
  {
   "cell_type": "code",
   "execution_count": 267,
   "id": "79b7ed7c",
   "metadata": {},
   "outputs": [
    {
     "data": {
      "text/html": [
       "<div>\n",
       "<style scoped>\n",
       "    .dataframe tbody tr th:only-of-type {\n",
       "        vertical-align: middle;\n",
       "    }\n",
       "\n",
       "    .dataframe tbody tr th {\n",
       "        vertical-align: top;\n",
       "    }\n",
       "\n",
       "    .dataframe thead th {\n",
       "        text-align: right;\n",
       "    }\n",
       "</style>\n",
       "<table border=\"1\" class=\"dataframe\">\n",
       "  <thead>\n",
       "    <tr style=\"text-align: right;\">\n",
       "      <th></th>\n",
       "      <th>S/N</th>\n",
       "      <th>Name</th>\n",
       "      <th>Net worth (USD)</th>\n",
       "      <th>Age</th>\n",
       "      <th>Nationality</th>\n",
       "      <th>Primary source(s) of wealth</th>\n",
       "      <th>Double Age</th>\n",
       "      <th>firstname</th>\n",
       "      <th>Lastname</th>\n",
       "    </tr>\n",
       "  </thead>\n",
       "  <tbody>\n",
       "    <tr>\n",
       "      <th>0</th>\n",
       "      <td>1</td>\n",
       "      <td>Bernard Arnault &amp; family</td>\n",
       "      <td>$211 billion</td>\n",
       "      <td>74</td>\n",
       "      <td>France</td>\n",
       "      <td>LVMH</td>\n",
       "      <td>148</td>\n",
       "      <td>Bernard</td>\n",
       "      <td>Arnault</td>\n",
       "    </tr>\n",
       "    <tr>\n",
       "      <th>1</th>\n",
       "      <td>2</td>\n",
       "      <td>Elon Musk</td>\n",
       "      <td>$180 billion</td>\n",
       "      <td>51</td>\n",
       "      <td>USA</td>\n",
       "      <td>Tesla, SpaceX</td>\n",
       "      <td>102</td>\n",
       "      <td>Elon</td>\n",
       "      <td>Musk</td>\n",
       "    </tr>\n",
       "    <tr>\n",
       "      <th>2</th>\n",
       "      <td>3</td>\n",
       "      <td>Jeff Bezos</td>\n",
       "      <td>$114 billion</td>\n",
       "      <td>59</td>\n",
       "      <td>USA</td>\n",
       "      <td>Amazon</td>\n",
       "      <td>118</td>\n",
       "      <td>Jeff</td>\n",
       "      <td>Bezos</td>\n",
       "    </tr>\n",
       "    <tr>\n",
       "      <th>3</th>\n",
       "      <td>4</td>\n",
       "      <td>Larry Ellison</td>\n",
       "      <td>$107 billion</td>\n",
       "      <td>78</td>\n",
       "      <td>USA</td>\n",
       "      <td>Oracle Corporation</td>\n",
       "      <td>156</td>\n",
       "      <td>Larry</td>\n",
       "      <td>Ellison</td>\n",
       "    </tr>\n",
       "    <tr>\n",
       "      <th>4</th>\n",
       "      <td>5</td>\n",
       "      <td>Warren Buffett</td>\n",
       "      <td>$106 billion</td>\n",
       "      <td>92</td>\n",
       "      <td>USA</td>\n",
       "      <td>Berkshire Hathaway</td>\n",
       "      <td>184</td>\n",
       "      <td>Warren</td>\n",
       "      <td>Buffett</td>\n",
       "    </tr>\n",
       "    <tr>\n",
       "      <th>5</th>\n",
       "      <td>6</td>\n",
       "      <td>Bill Gates</td>\n",
       "      <td>$104 billion</td>\n",
       "      <td>67</td>\n",
       "      <td>USA</td>\n",
       "      <td>Microsoft</td>\n",
       "      <td>134</td>\n",
       "      <td>Bill</td>\n",
       "      <td>Gates</td>\n",
       "    </tr>\n",
       "    <tr>\n",
       "      <th>6</th>\n",
       "      <td>7</td>\n",
       "      <td>Michael Bloomberg</td>\n",
       "      <td>$94.5 billion</td>\n",
       "      <td>81</td>\n",
       "      <td>USA</td>\n",
       "      <td>Bloomberg L.P.</td>\n",
       "      <td>162</td>\n",
       "      <td>Michael</td>\n",
       "      <td>Bloomberg</td>\n",
       "    </tr>\n",
       "    <tr>\n",
       "      <th>7</th>\n",
       "      <td>8</td>\n",
       "      <td>Carlos Slim &amp; family</td>\n",
       "      <td>$93 billion</td>\n",
       "      <td>83</td>\n",
       "      <td>Mexico</td>\n",
       "      <td>Telmex, América Móvil, Grupo Carso</td>\n",
       "      <td>166</td>\n",
       "      <td>Carlos</td>\n",
       "      <td>Slim</td>\n",
       "    </tr>\n",
       "    <tr>\n",
       "      <th>8</th>\n",
       "      <td>9</td>\n",
       "      <td>Mukesh Ambani</td>\n",
       "      <td>$83.4 billion</td>\n",
       "      <td>65</td>\n",
       "      <td>India</td>\n",
       "      <td>Reliance Industries</td>\n",
       "      <td>130</td>\n",
       "      <td>Mukesh</td>\n",
       "      <td>Ambani</td>\n",
       "    </tr>\n",
       "    <tr>\n",
       "      <th>9</th>\n",
       "      <td>10</td>\n",
       "      <td>Steve Ballmer</td>\n",
       "      <td>$80.7 billion</td>\n",
       "      <td>67</td>\n",
       "      <td>USA</td>\n",
       "      <td>Microsoft</td>\n",
       "      <td>134</td>\n",
       "      <td>Steve</td>\n",
       "      <td>Ballmer</td>\n",
       "    </tr>\n",
       "  </tbody>\n",
       "</table>\n",
       "</div>"
      ],
      "text/plain": [
       "   S/N                      Name Net worth (USD)  Age Nationality  \\\n",
       "0    1  Bernard Arnault & family    $211 billion   74      France   \n",
       "1    2                 Elon Musk    $180 billion   51         USA   \n",
       "2    3                Jeff Bezos    $114 billion   59         USA   \n",
       "3    4             Larry Ellison    $107 billion   78         USA   \n",
       "4    5            Warren Buffett    $106 billion   92         USA   \n",
       "5    6                Bill Gates    $104 billion   67         USA   \n",
       "6    7         Michael Bloomberg   $94.5 billion   81         USA   \n",
       "7    8      Carlos Slim & family     $93 billion   83      Mexico   \n",
       "8    9             Mukesh Ambani   $83.4 billion   65       India   \n",
       "9   10             Steve Ballmer   $80.7 billion   67         USA   \n",
       "\n",
       "          Primary source(s) of wealth  Double Age firstname   Lastname  \n",
       "0                                LVMH         148   Bernard    Arnault  \n",
       "1                       Tesla, SpaceX         102      Elon       Musk  \n",
       "2                              Amazon         118      Jeff      Bezos  \n",
       "3                  Oracle Corporation         156     Larry    Ellison  \n",
       "4                  Berkshire Hathaway         184    Warren    Buffett  \n",
       "5                           Microsoft         134      Bill      Gates  \n",
       "6                      Bloomberg L.P.         162   Michael  Bloomberg  \n",
       "7  Telmex, América Móvil, Grupo Carso         166    Carlos       Slim  \n",
       "8                 Reliance Industries         130    Mukesh     Ambani  \n",
       "9                           Microsoft         134     Steve    Ballmer  "
      ]
     },
     "execution_count": 267,
     "metadata": {},
     "output_type": "execute_result"
    }
   ],
   "source": [
    "df[\"Nationality\"] = df[\"Nationality\"].replace(to_replace=\"United States\",value=\"USA\")\n",
    "df"
   ]
  },
  {
   "cell_type": "code",
   "execution_count": 268,
   "id": "185beaa6",
   "metadata": {},
   "outputs": [
    {
     "data": {
      "text/plain": [
       "4          Warren Buffett\n",
       "7    Carlos Slim & family\n",
       "6       Michael Bloomberg\n",
       "Name: Name, dtype: object"
      ]
     },
     "execution_count": 268,
     "metadata": {},
     "output_type": "execute_result"
    }
   ],
   "source": [
    "df.sort_values(by=\"Age\", ascending=False)[\"Name\"].head(3)"
   ]
  },
  {
   "cell_type": "code",
   "execution_count": null,
   "id": "325d3c31",
   "metadata": {},
   "outputs": [],
   "source": [
    "# handling missing data"
   ]
  }
 ],
 "metadata": {
  "kernelspec": {
   "display_name": "Python 3 (ipykernel)",
   "language": "python",
   "name": "python3"
  },
  "language_info": {
   "codemirror_mode": {
    "name": "ipython",
    "version": 3
   },
   "file_extension": ".py",
   "mimetype": "text/x-python",
   "name": "python",
   "nbconvert_exporter": "python",
   "pygments_lexer": "ipython3",
   "version": "3.9.7"
  }
 },
 "nbformat": 4,
 "nbformat_minor": 5
}
